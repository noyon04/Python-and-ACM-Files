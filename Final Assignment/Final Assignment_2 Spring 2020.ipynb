{
 "cells": [
  {
   "cell_type": "markdown",
   "metadata": {},
   "source": [
    "#### CSE 452: Neural Networks and Fuzzy Systems Lab\n",
    "Spring-2020, Dept. of CSE, NEUB <br>"
   ]
  },
  {
   "cell_type": "markdown",
   "metadata": {},
   "source": [
    "#### Student Info\n",
    "<b>Name:</b> Hamiduzzaman Noyon<br>\n",
    "<b>Reg. No:</b> 160303020004"
   ]
  },
  {
   "cell_type": "markdown",
   "metadata": {},
   "source": [
    "### Assignment  2: Hopfield\n",
    "<b>This assignment contains three tasks</b><br>"
   ]
  },
  {
   "cell_type": "code",
   "execution_count": 1,
   "metadata": {},
   "outputs": [],
   "source": [
    "import numpy as np\n",
    "import matplotlib.pyplot as plt"
   ]
  },
  {
   "cell_type": "markdown",
   "metadata": {},
   "source": [
    "<b>Let's train 3 pattern. Each pattern has length of four</b>"
   ]
  },
  {
   "cell_type": "code",
   "execution_count": 2,
   "metadata": {},
   "outputs": [
    {
     "name": "stdout",
     "output_type": "stream",
     "text": [
      "[[0. 0. 0. 0.]\n",
      " [0. 0. 0. 0.]\n",
      " [0. 0. 0. 0.]\n",
      " [0. 0. 0. 0.]]\n"
     ]
    }
   ],
   "source": [
    "#initialize w\n",
    "n=4\n",
    "w=np.zeros((n,n))\n",
    "print(w)"
   ]
  },
  {
   "cell_type": "code",
   "execution_count": 3,
   "metadata": {},
   "outputs": [],
   "source": [
    "#patterns to train.\n",
    "x1=np.array([1,1,-1,-1])\n",
    "x2=np.array([-1,1,1,-1])\n",
    "x3=np.array([1,-1,-1,1])"
   ]
  },
  {
   "cell_type": "code",
   "execution_count": 4,
   "metadata": {},
   "outputs": [],
   "source": [
    "#make 1x4 vector form\n",
    "x1=x1.reshape(1,-1)\n",
    "x2=x2.reshape(1,-1)\n",
    "x3=x3.reshape(1,-1)"
   ]
  },
  {
   "cell_type": "code",
   "execution_count": 5,
   "metadata": {},
   "outputs": [
    {
     "name": "stdout",
     "output_type": "stream",
     "text": [
      "x1 shape: (1, 4)\n",
      "x2 shape: (1, 4)\n",
      "x3 shape: (1, 4)\n"
     ]
    }
   ],
   "source": [
    "print('x1 shape:',x1.shape)\n",
    "print('x2 shape:',x2.shape)\n",
    "print('x3 shape:',x3.shape)"
   ]
  },
  {
   "cell_type": "markdown",
   "metadata": {},
   "source": [
    "### Training pattern\n"
   ]
  },
  {
   "cell_type": "markdown",
   "metadata": {},
   "source": [
    "$$ dw=x.x^T -I \\space \\space \\\\ where \\space \\space I =\\space identity \\space matrix.$$  \n",
    "$$w=w+dw$$"
   ]
  },
  {
   "cell_type": "markdown",
   "metadata": {},
   "source": [
    "<b> Task 1:</b><br>\n",
    "Train x1 and update w.<br>\n",
    "<b>updated w</b> should look like the following. \n",
    "\n",
    "[[ 0.  1. -1. -1.]<br>\n",
    " [ 1.  0. -1. -1.]<br>\n",
    " [-1. -1.  0.  1.]<br>\n",
    " [-1. -1.  1.  0.]]"
   ]
  },
  {
   "cell_type": "code",
   "execution_count": 6,
   "metadata": {},
   "outputs": [
    {
     "name": "stdout",
     "output_type": "stream",
     "text": [
      "[[ 0.  1. -1. -1.]\n",
      " [ 1.  0. -1. -1.]\n",
      " [-1. -1.  0.  1.]\n",
      " [-1. -1.  1.  0.]]\n"
     ]
    }
   ],
   "source": [
    "n=4\n",
    "w=np.zeros((n,n))\n",
    "dw=np.dot(x1.T,x1)-np.identity(4)\n",
    "w=w+dw\n",
    "print(w)"
   ]
  },
  {
   "cell_type": "markdown",
   "metadata": {},
   "source": [
    "<b> Task 2:</b><br>\n",
    "Now, train x2 and then x3<br>\n",
    "After training x3, updated <b>w</b> should look like the following<br>\n",
    "[[ 0. -1. -3.  1.]<br>\n",
    " [-1.  0.  1. -3.]<br>\n",
    " [-3.  1.  0. -1.]<br>\n",
    " [ 1. -3. -1.  0.]]"
   ]
  },
  {
   "cell_type": "code",
   "execution_count": 7,
   "metadata": {},
   "outputs": [
    {
     "name": "stdout",
     "output_type": "stream",
     "text": [
      "[[ 0. -1. -3.  1.]\n",
      " [-1.  0.  1. -3.]\n",
      " [-3.  1.  0. -1.]\n",
      " [ 1. -3. -1.  0.]]\n"
     ]
    }
   ],
   "source": [
    "dw=np.dot(x2.T,x2)-np.identity(4)\n",
    "w=w+dw\n",
    "dw=np.dot(x3.T,x3)-np.identity(4)\n",
    "w=w+dw\n",
    "print(w)"
   ]
  },
  {
   "cell_type": "markdown",
   "metadata": {},
   "source": [
    "<b>Task 3:</b> Energy\n",
    "After training x3, calculate energy.<br>\n",
    "Output should be = -10"
   ]
  },
  {
   "cell_type": "markdown",
   "metadata": {},
   "source": [
    "neurons are so interconnected, that they may cause oscillation, or instability. This is called the “energy” of a hopfield net.\n",
    "\n",
    "\n",
    "$$E=\\frac{−1}{2} \\sum_{j=1}^n  \\sum_{i=1}^n w_{ij}x_i x_j$$\n",
    "\n",
    "In terms of linear algebra, simpler version is \n",
    "$$E = -\\frac{1}{2} x^T.W.x$$"
   ]
  },
  {
   "cell_type": "code",
   "execution_count": 8,
   "metadata": {},
   "outputs": [
    {
     "name": "stdout",
     "output_type": "stream",
     "text": [
      "Energy=  -10.0\n"
     ]
    }
   ],
   "source": [
    "e=0\n",
    "for x in range (len(w)):\n",
    "    for y in range(len(w[x])):\n",
    "        e=e+w[x][y]*x3[0][x]*x3[0][y]\n",
    "e=e*-0.5\n",
    "print(\"Energy= \",e)"
   ]
  },
  {
   "cell_type": "markdown",
   "metadata": {},
   "source": [
    "### Submission: Honor Code\n",
    "Plese type the following in the next cell. Replace the underlined text with your own. "
   ]
  },
  {
   "cell_type": "markdown",
   "metadata": {},
   "source": [
    "I am <u>Hamiduzzaman Noyon</u> bearing registration no. <u>160303020004</u> hereby declaring that I myself did my assignments, I didn't directly copy any code from others. I have a complete understanding of my code and can explain. I respect this honor code and I believe it will be useful to maintain academic integrity.<br>\n",
    "\n",
    "Name: <u>Hamiduzzaman Noyon</u><br>\n",
    "Date: <u>25/07/20</u>"
   ]
  },
  {
   "cell_type": "markdown",
   "metadata": {},
   "source": [
    "_start writing here_"
   ]
  }
 ],
 "metadata": {
  "kernelspec": {
   "display_name": "Python 3",
   "language": "python",
   "name": "python3"
  },
  "language_info": {
   "codemirror_mode": {
    "name": "ipython",
    "version": 3
   },
   "file_extension": ".py",
   "mimetype": "text/x-python",
   "name": "python",
   "nbconvert_exporter": "python",
   "pygments_lexer": "ipython3",
   "version": "3.7.3"
  }
 },
 "nbformat": 4,
 "nbformat_minor": 2
}
