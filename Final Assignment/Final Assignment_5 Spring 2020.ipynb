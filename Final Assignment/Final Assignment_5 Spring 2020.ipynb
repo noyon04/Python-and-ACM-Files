{
 "cells": [
  {
   "cell_type": "markdown",
   "metadata": {},
   "source": [
    "#### CSE 452: Neural Networks and Fuzzy Systems Lab\n",
    "Spring-2020, Dept. of CSE, NEUB <br>"
   ]
  },
  {
   "cell_type": "markdown",
   "metadata": {},
   "source": [
    "#### Student Info\n",
    "<b>Name:</b> Hamiduzzaman Noyon<br>\n",
    "<b>Reg. No:</b> 160303020004"
   ]
  },
  {
   "cell_type": "markdown",
   "metadata": {},
   "source": [
    "### Assignment  5: Complete any small project using neural network.\n",
    "\n",
    "1. choose any library\n",
    "2. choose any dataset\n",
    "3. choose a suitable neural network\n",
    "4. Show some plot on data and results.\n",
    "5. complete the project"
   ]
  },
  {
   "cell_type": "markdown",
   "metadata": {},
   "source": [
    "#Suggested Task\n",
    "1. Image classification\n",
    "2. Text classification\n",
    "3. Audio classification"
   ]
  },
  {
   "cell_type": "markdown",
   "metadata": {},
   "source": [
    "## Project name: Face Recognition\n",
    "#### required (microsoft visual studio,Cmake,dlib,upgraded numpy scipy,face_recognition lib)\n",
    "\n",
    "\n"
   ]
  },
  {
   "cell_type": "code",
   "execution_count": 12,
   "metadata": {},
   "outputs": [],
   "source": [
    "import face_recognition\n",
    "import os\n",
    "import cv2"
   ]
  },
  {
   "cell_type": "code",
   "execution_count": 13,
   "metadata": {},
   "outputs": [
    {
     "name": "stdout",
     "output_type": "stream",
     "text": [
      "Loading known faces...\n"
     ]
    }
   ],
   "source": [
    "KNOWN_FACES_DIR = 'known_faces'\n",
    "UNKNOWN_FACES_DIR = 'unknown_faces'\n",
    "TOLERANCE = 0.6\n",
    "\n",
    "print('Loading known faces...')\n",
    "known_faces = []\n",
    "known_names = []\n",
    "\n",
    "for name in os.listdir(KNOWN_FACES_DIR):\n",
    "    for filename in os.listdir(f'{KNOWN_FACES_DIR}/{name}'):\n",
    "        image = face_recognition.load_image_file(f'{KNOWN_FACES_DIR}/{name}/{filename}')\n",
    "        encoding = face_recognition.face_encodings(image)[0]\n",
    "        known_faces.append(encoding)\n",
    "        known_names.append(name)\n"
   ]
  },
  {
   "cell_type": "code",
   "execution_count": 14,
   "metadata": {},
   "outputs": [
    {
     "name": "stdout",
     "output_type": "stream",
     "text": [
      " found in  IMG_20180819_104427.jpg   1  face(s)\n",
      " - noyon from [False, True]\n",
      " found in  IMG_20180822_173810.jpg   3  face(s)\n",
      " - noyon from [False, True]\n",
      " - hanif from [True, False]\n"
     ]
    }
   ],
   "source": [
    "for filename in os.listdir(UNKNOWN_FACES_DIR):\n",
    "    image = face_recognition.load_image_file(f'{UNKNOWN_FACES_DIR}/{filename}')\n",
    "    locations = face_recognition.face_locations(image)\n",
    "    encodings = face_recognition.face_encodings(image, locations)\n",
    "    print(\" found in \",filename,\" \", len(encodings),\" face(s)\")\n",
    "    for face_encoding, face_location in zip(encodings, locations):\n",
    "        results = face_recognition.compare_faces(known_faces, face_encoding, TOLERANCE)\n",
    "        match = None\n",
    "        if True in results: \n",
    "            match = known_names[results.index(True)]\n",
    "            print(f' - {match} from {results}')\n",
    "        \n",
    "            "
   ]
  },
  {
   "cell_type": "markdown",
   "metadata": {},
   "source": [
    "### Submission: Honor Code\n",
    "Plese type the following in the next cell. Replace the underlined text with your own. "
   ]
  },
  {
   "cell_type": "markdown",
   "metadata": {},
   "source": [
    "I am <u>Hamdiduzzaman Noyon</u> bearing registration no. <u>160303020004</u> hereby declaring that I myself did my assignments, I didn't directly copy any code from others. I have a complete understanding of my code and can explain. I respect this honor code and I believe it will be useful to maintain academic integrity.<br>\n",
    "\n",
    "Name: <u>Hamiduzzaman Noyon</u><br>\n",
    "Date: <u>25/07/2020</u>"
   ]
  },
  {
   "cell_type": "markdown",
   "metadata": {},
   "source": [
    "_start writing here_"
   ]
  }
 ],
 "metadata": {
  "kernelspec": {
   "display_name": "Python 3",
   "language": "python",
   "name": "python3"
  },
  "language_info": {
   "codemirror_mode": {
    "name": "ipython",
    "version": 3
   },
   "file_extension": ".py",
   "mimetype": "text/x-python",
   "name": "python",
   "nbconvert_exporter": "python",
   "pygments_lexer": "ipython3",
   "version": "3.7.3"
  }
 },
 "nbformat": 4,
 "nbformat_minor": 2
}
