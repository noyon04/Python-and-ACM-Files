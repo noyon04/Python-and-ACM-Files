{
 "cells": [
  {
   "cell_type": "markdown",
   "metadata": {},
   "source": [
    "#### CSE 452: Neural Networks and Fuzzy Systems Lab\n",
    "Spring-2020, Dept. of CSE, NEUB <br>\n",
    "Final Assignment_1 <br>\n",
    "This assignment contain 3 tasks."
   ]
  },
  {
   "cell_type": "markdown",
   "metadata": {},
   "source": [
    "#### Student Info\n",
    "<b>Name:</b> Hamiduzzaman Noyon<br>\n",
    "<b>Reg. No:</b> 160303020004"
   ]
  },
  {
   "cell_type": "markdown",
   "metadata": {},
   "source": [
    "### Assignment 1: Perceptron \n",
    "<b>This assignment contains three tasks</b><br>\n",
    "Perceptron is the first neural network model that can learn from data, invented in 1958 at the Cornell Aeronautical Laboratory by Frank Rosenblatt. \n",
    "\n",
    "* Linear classifier.\n",
    "* Binary or bipolar data\n",
    "\\begin{equation}\n",
    "  \\hat y=\n",
    "  \\begin{cases}\n",
    "    1, &  \\sum_{i}^{m} w_i.x_i+b> 0  \\\\\n",
    "    -1, & \\text{otherwise}\n",
    "  \\end{cases}\n",
    "\\end{equation}\n",
    "\n",
    "Or, we can write [for a single data vector= x, weight vector=w and bias=b]\n",
    "\\begin{equation}\n",
    "  z=x.w+b\\\\\n",
    "  \\hat y=sign(z)\n",
    "\\end{equation}\n",
    "\n",
    "Or, we can simplify,\n",
    "\\begin{equation}\n",
    "  z=X.W^T\\\\\n",
    "  \\hat y=sign(z)\n",
    "\\end{equation}\n",
    "where X=data (NxD), W=weight vector(1xD) , b=bias(1x1)"
   ]
  },
  {
   "cell_type": "code",
   "execution_count": 1,
   "metadata": {},
   "outputs": [],
   "source": [
    "import numpy as np\n",
    "import matplotlib.pyplot as plt"
   ]
  },
  {
   "cell_type": "code",
   "execution_count": 2,
   "metadata": {},
   "outputs": [],
   "source": [
    "X=np.array([[8, 7], [4, 10], [9, 7], [7, 10], [9, 6], [4, 8], [10, 10], [2, 7], [8, 3], [7, 5], [4, 4],  [4, 6], [1, 3], [2, 5]])\n",
    "y=np.array([1, 1, 1, 1, 1, 1, 1, -1, -1, -1, -1, -1, -1, -1])"
   ]
  },
  {
   "cell_type": "code",
   "execution_count": 3,
   "metadata": {},
   "outputs": [
    {
     "name": "stdout",
     "output_type": "stream",
     "text": [
      "X shape: (14, 2)\n",
      "y shape: (14,)\n"
     ]
    }
   ],
   "source": [
    "print('X shape:',X.shape)\n",
    "print('y shape:',y.shape)"
   ]
  },
  {
   "cell_type": "code",
   "execution_count": 4,
   "metadata": {},
   "outputs": [
    {
     "data": {
      "image/png": "[encoded data removed]",
      "text/plain": [
       "<Figure size 432x288 with 1 Axes>"
      ]
     },
     "metadata": {
      "needs_background": "light"
     },
     "output_type": "display_data"
    }
   ],
   "source": [
    "plt.scatter(X[:,0],X[:, 1],marker='o', c=y, cmap='jet')   \n",
    "plt.show()"
   ]
  },
  {
   "cell_type": "markdown",
   "metadata": {},
   "source": [
    "<b>Task_1: calculate output</b><br>\n",
    "Given, w=[-2.0, 0.4, 0.1], calculate output $\\hat y$ <br> <b>note:</b> w[0]=bias<br>\n",
    "\n",
    "\\begin{equation}\n",
    "  z=X.W^T\\\\\n",
    "  \\hat y=sign(z)\n",
    "\\end{equation}\n",
    " \n",
    "* Output should be, $\\hat y=[1, 1, 1, 1, 1, 1, 1, -1, 1, 1, -1, 1, -1, -1]$\n",
    "* Note: variable XX contains 1 in the first column and the rest is same as X. This will remove the necessity of useing seperate bias."
   ]
  },
  {
   "cell_type": "code",
   "execution_count": 5,
   "metadata": {},
   "outputs": [
    {
     "name": "stdout",
     "output_type": "stream",
     "text": [
      "[1, 1, 1, 1, 1, 1, 1, -1, 1, 1, -1, 1, -1, -1]\n"
     ]
    }
   ],
   "source": [
    "def predict(w,Xa):\n",
    "    h=[]\n",
    "    for x in range(len(Xa)):\n",
    "        val=0\n",
    "        Xa1=Xa[x]\n",
    "        for y in range(len(w)):\n",
    "            val=val+Xa1[y]*w[y]\n",
    "        if(round(val,2)>0):\n",
    "            h.append(1)\n",
    "        else:\n",
    "            h.append(-1)\n",
    "    return h\n",
    "w=[-2.0,0.4,0.1]\n",
    "Xa= np.c_[np.ones(X.shape[0]), X]\n",
    "pr_y=predict(w,Xa)\n",
    "print(pr_y)"
   ]
  },
  {
   "cell_type": "markdown",
   "metadata": {},
   "source": [
    "<b>Task_2: Update check</b><br>\n",
    "Let's choose a missclassified data,  $rx=[1, 4,6], ry=-1$ <br>\n",
    "Update rule: $w=w+ \\eta(ry*rx)$  <br>\n",
    "Where, learning rate $0> \\eta \\leq 1$ <br>\n",
    "Let, $\\eta=0.1$  <br>\n",
    "\n",
    "Now,\n",
    "* use w from task 1.\n",
    "* update w for the data. updated w should be [-2.1,  0. , -0.5]"
   ]
  },
  {
   "cell_type": "code",
   "execution_count": 6,
   "metadata": {},
   "outputs": [
    {
     "name": "stdout",
     "output_type": "stream",
     "text": [
      "[-2.1, 0.0, -0.5]\n"
     ]
    }
   ],
   "source": [
    "rx=[1,4,6]\n",
    "ry=-1\n",
    "lr=0.1\n",
    "up_w=[]\n",
    "for x in range(len(w)):\n",
    "    temp=w[x]+(lr*(ry*rx[x]))\n",
    "    up_w.append(round(temp,2))\n",
    "print(up_w)"
   ]
  },
  {
   "cell_type": "markdown",
   "metadata": {},
   "source": [
    "<b>Task_3: Train perceptron</b> <br>\n",
    "\n",
    "* your task is to implement perceptron learning algorithm. Your implementation should correctly classify the data above. <br>\n",
    "* Print the trained W <br>\n",
    "* Plot the data and the decision boundary <br>\n",
    "* Plot loss history."
   ]
  },
  {
   "cell_type": "markdown",
   "metadata": {},
   "source": [
    "The goal is to find a correct hyperplane to correctly classify all the data.  Weight vector w defines the hyperplane aka the separating line.\n",
    "\n",
    "<b>Perceptron learning algorithm</b>\n",
    "1. Randomly initialize w\n",
    "2. Classify all the training data\n",
    "3. From the misclassified data choose one randomly. say <b>rx</b> with label <b>ry</b>\n",
    "4. Update weights using the update rule.  𝒘=𝒘+𝜼(𝒓𝒙∗𝒓𝒚)   where 𝜼 𝒊𝒔 𝒍𝒆𝒂𝒓𝒏𝒊𝒏𝒈 𝒓𝒂𝒕𝒆. \n",
    "5. Classify training data using this updated w\n",
    "6. Calculate average Loss $loss=\\frac{1}{N} \\sum(y-\\hat y)^2$\n",
    "7. Repeat step 2-7 until all data are correctly classified or maximum iteration reached.\n"
   ]
  },
  {
   "cell_type": "code",
   "execution_count": 7,
   "metadata": {},
   "outputs": [],
   "source": [
    "def missclass(h,Y):\n",
    "    miss=[]\n",
    "    for i in range(len(Y)):\n",
    "        if(h[i]!=Y[i]):\n",
    "            miss.append(i)\n",
    "    return miss\n",
    "\n",
    "def avg_loss(y,up_y):\n",
    "    temp=0\n",
    "    for x in range(len(y)):\n",
    "        temp=temp+(y[x]-up_y[x])**2\n",
    "    loss=temp/len(y)\n",
    "    return loss\n",
    "\n",
    "def update_w(w,rx,ry):\n",
    "    lr=0.1\n",
    "    up_w=[]\n",
    "    for x in range(len(w)):\n",
    "        temp=w[x]+(lr*(ry*rx[x]))\n",
    "        up_w.append(round(temp,2))\n",
    "    return up_w\n"
   ]
  },
  {
   "cell_type": "code",
   "execution_count": 8,
   "metadata": {},
   "outputs": [],
   "source": [
    "ran_w=np.random.rand(3)\n",
    "h=predict(ran_w,Xa)\n",
    "miss=missclass(h,y)\n",
    "while(len(miss)>0):\n",
    "    rn=np.random.choice(miss)\n",
    "    rx=Xa[rn]\n",
    "    ry=y[rn]\n",
    "    ran_w=update_w(ran_w,rx,ry)\n",
    "    h=predict(ran_w,Xa)\n",
    "    loss=avg_loss(y,h)\n",
    "    miss=missclass(h,y)"
   ]
  },
  {
   "cell_type": "code",
   "execution_count": 9,
   "metadata": {},
   "outputs": [
    {
     "name": "stdout",
     "output_type": "stream",
     "text": [
      "[1, 1, 1, 1, 1, 1, 1, -1, -1, -1, -1, -1, -1, -1]\n"
     ]
    }
   ],
   "source": [
    "up_y=predict(ran_w,Xa)\n",
    "print(up_y)"
   ]
  },
  {
   "cell_type": "markdown",
   "metadata": {},
   "source": [
    "### Submission: Honor Code\n",
    "Plese type the following in the next cell. Replace the underlined text with your own. "
   ]
  },
  {
   "cell_type": "markdown",
   "metadata": {},
   "source": [
    "I am <u>Hamiduzzaman Noyon</u> bearing registration no. <u>160303020004</u> hereby declaring that I myself did my assignments, I didn't directly copy any code from others. I have a complete understanding of my code and can explain. I respect this honor code and I believe it will be useful to maintain academic integrity.<br>\n",
    "\n",
    "Name: <u>Hamiduzzaman Noyon</u><br>\n",
    "Date: <u>25/07/20</u>"
   ]
  },
  {
   "cell_type": "markdown",
   "metadata": {},
   "source": [
    "_start writing here_"
   ]
  }
 ],
 "metadata": {
  "kernelspec": {
   "display_name": "Python 3",
   "language": "python",
   "name": "python3"
  },
  "language_info": {
   "codemirror_mode": {
    "name": "ipython",
    "version": 3
   },
   "file_extension": ".py",
   "mimetype": "text/x-python",
   "name": "python",
   "nbconvert_exporter": "python",
   "pygments_lexer": "ipython3",
   "version": "3.7.3"
  }
 },
 "nbformat": 4,
 "nbformat_minor": 2
}
