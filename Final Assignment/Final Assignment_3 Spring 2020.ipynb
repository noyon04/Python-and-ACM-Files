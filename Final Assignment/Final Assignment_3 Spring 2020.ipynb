{
 "cells": [
  {
   "cell_type": "markdown",
   "metadata": {},
   "source": [
    "#### CSE 452: Neural Networks and Fuzzy Systems Lab\n",
    "Spring-2020, Dept. of CSE, NEUB <br>"
   ]
  },
  {
   "cell_type": "markdown",
   "metadata": {},
   "source": [
    "#### Student Info\n",
    "<b>Name:</b> Hamiduzzaman Noyon<br>\n",
    "<b>Reg. No:</b> 160303020004"
   ]
  },
  {
   "cell_type": "markdown",
   "metadata": {},
   "source": [
    "### Assignment  3: Fully Connected Layer (Feedforward+Backprop)\n",
    "<b>This assignment contains three tasks</b><br>"
   ]
  },
  {
   "cell_type": "code",
   "execution_count": 1,
   "metadata": {},
   "outputs": [],
   "source": [
    "import numpy as np\n",
    "import matplotlib.pyplot as plt"
   ]
  },
  {
   "cell_type": "code",
   "execution_count": 2,
   "metadata": {},
   "outputs": [],
   "source": [
    "X=np.array([[1, 2], [4, 5], [12, 7], [16, 10], [20, 5], [5, 8]  ])\n",
    "y=np.array([[0,1], [0,1], [1,0], [1,0],  [0,1], [1,0] ])"
   ]
  },
  {
   "cell_type": "code",
   "execution_count": 3,
   "metadata": {},
   "outputs": [
    {
     "name": "stdout",
     "output_type": "stream",
     "text": [
      "[[0 1]\n",
      " [0 1]\n",
      " [1 0]\n",
      " [1 0]\n",
      " [0 1]\n",
      " [1 0]]\n"
     ]
    }
   ],
   "source": [
    "print(y)"
   ]
  },
  {
   "cell_type": "code",
   "execution_count": 4,
   "metadata": {},
   "outputs": [
    {
     "data": {
      "text/plain": [
       "(6, 2)"
      ]
     },
     "execution_count": 4,
     "metadata": {},
     "output_type": "execute_result"
    }
   ],
   "source": [
    "X.shape"
   ]
  },
  {
   "cell_type": "code",
   "execution_count": 5,
   "metadata": {},
   "outputs": [],
   "source": [
    "b=np.array([0.5, 0.6])\n",
    "w=np.array([ [0.1,0.2], [0.3,0.4] ])"
   ]
  },
  {
   "cell_type": "markdown",
   "metadata": {},
   "source": [
    "<b>Softmax</b>\n",
    "$$Let, a=[a_0, a_1, a_2, ..]$$\n",
    "$$S_i=\\frac{e^{a_i}}{\\sum_{k=0}^{N} {e^{a_k}}}$$"
   ]
  },
  {
   "cell_type": "markdown",
   "metadata": {},
   "source": [
    "<b>Task 1: calculate feedforward output</b><br><br>\n",
    "$\\hat{y}=softmax(X.w+b)$\n",
    "\n",
    "Output should look like the following. <br>\n",
    "\n",
    "[[0.401 0.599] <br>\n",
    " [0.269 0.731] <br>\n",
    " [0.119 0.881] <br>\n",
    " [0.063 0.937] <br>\n",
    " [0.069 0.931] <br>\n",
    " [0.198 0.802]]"
   ]
  },
  {
   "cell_type": "code",
   "execution_count": 6,
   "metadata": {},
   "outputs": [],
   "source": [
    "def softmax(z):\n",
    "    a=[]\n",
    "    for i in z:\n",
    "        b0=np.exp(i[0])/(np.exp(i[0])+np.exp(i[1]))\n",
    "        b1=np.exp(i[1])/(np.exp(i[0])+np.exp(i[1]))\n",
    "        a.append([round(b0,3),round(b1,3)])\n",
    "    return a"
   ]
  },
  {
   "cell_type": "code",
   "execution_count": 7,
   "metadata": {},
   "outputs": [
    {
     "name": "stdout",
     "output_type": "stream",
     "text": [
      "[[0.401 0.599]\n",
      " [0.269 0.731]\n",
      " [0.119 0.881]\n",
      " [0.063 0.937]\n",
      " [0.069 0.931]\n",
      " [0.198 0.802]]\n"
     ]
    }
   ],
   "source": [
    "z=np.dot(X,w)+b\n",
    "pr_y=softmax(z)\n",
    "print(np.array(pr_y))"
   ]
  },
  {
   "cell_type": "markdown",
   "metadata": {},
   "source": [
    "<b>Task 2: calculate log loss</b><br><br> \n",
    "$$L_i = - y_i* \\sum \\log (A_i)$$\n",
    "\\begin{equation*}\n",
    "L =\\frac{1}{N} \\sum_i L_i \n",
    "\\end{equation*}\n",
    "\n",
    "Output should look like the following. <br>\n",
    "Loss: [0.513 0.313 2.127 2.765 0.072 1.62 ] <br>\n",
    "average loss: 1.2351"
   ]
  },
  {
   "cell_type": "code",
   "execution_count": 9,
   "metadata": {},
   "outputs": [],
   "source": [
    "def loss(y,a):\n",
    "    l=[]\n",
    "    for i in range(len(y)):\n",
    "        temp=-y[i][0]*np.log(a[i][0])-y[i][1]*np.log(a[i][1])\n",
    "        l.append(round(temp,3))\n",
    "    return l"
   ]
  },
  {
   "cell_type": "code",
   "execution_count": 12,
   "metadata": {},
   "outputs": [
    {
     "name": "stdout",
     "output_type": "stream",
     "text": [
      "loss=  [0.512, 0.313, 2.129, 2.765, 0.071, 1.619]\n",
      "average loss=  1.235\n"
     ]
    }
   ],
   "source": [
    "l=loss(y,pr_y)\n",
    "print(\"loss= \",l)\n",
    "avg_loss=np.mean(l)\n",
    "print(\"average loss= \",round(avg_loss,3))"
   ]
  },
  {
   "cell_type": "markdown",
   "metadata": {},
   "source": [
    "<b>Task 3: calculate gradient</b>\n",
    "\n",
    "$$dz=\\hat{y}-y$$ \n",
    "$$dw=\\frac{1}{N} ( X^T.dz )$$   \n",
    "$$db=\\frac{1}{N} \\sum dz $$ \n",
    "\n",
    "Dimension check: y-yh= (2xN).(NX2)=(2x2) \n",
    "\n",
    "dw should look like below, <br>\n",
    "[[-4.452,  4.452], <br>\n",
    "[-3.243,  3.243]])\n",
    "\n",
    "db should look like below<br>\n",
    "[[-0.313,  0.313]]"
   ]
  },
  {
   "cell_type": "code",
   "execution_count": 13,
   "metadata": {},
   "outputs": [
    {
     "name": "stdout",
     "output_type": "stream",
     "text": [
      "dw\n",
      " [[-4.45283333  4.45283333]\n",
      " [-3.2435      3.2435    ]]\n",
      "db\n",
      " [-0.3135  0.3135]\n"
     ]
    }
   ],
   "source": [
    "dz=(pr_y-y)\n",
    "dw=(1/len(y))*np.dot(X.T,dz)\n",
    "print(\"dw\\n\",dw)\n",
    "db=np.mean(dz,axis=0)\n",
    "print(\"db\\n\",db)"
   ]
  },
  {
   "cell_type": "markdown",
   "metadata": {},
   "source": [
    "### Submission: Honor Code\n",
    "Plese type the following in the next cell. Replace the underlined text with your own. "
   ]
  },
  {
   "cell_type": "markdown",
   "metadata": {},
   "source": [
    "I am <u>Hamiduzzaman Noyon</u> bearing registration no. <u>160303020004</u> hereby declaring that I myself did my assignments, I didn't directly copy any code from others. I have a complete understanding of my code and can explain. I respect this honor code and I believe it will be useful to maintain academic integrity.<br>\n",
    "\n",
    "Name: <u>Hamiduzzaman Noyon</u><br>\n",
    "Date: <u>25/07/20</u>"
   ]
  },
  {
   "cell_type": "markdown",
   "metadata": {},
   "source": [
    "_start writing here_"
   ]
  }
 ],
 "metadata": {
  "kernelspec": {
   "display_name": "Python 3",
   "language": "python",
   "name": "python3"
  },
  "language_info": {
   "codemirror_mode": {
    "name": "ipython",
    "version": 3
   },
   "file_extension": ".py",
   "mimetype": "text/x-python",
   "name": "python",
   "nbconvert_exporter": "python",
   "pygments_lexer": "ipython3",
   "version": "3.7.3"
  }
 },
 "nbformat": 4,
 "nbformat_minor": 2
}
