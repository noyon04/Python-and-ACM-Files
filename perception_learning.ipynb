{
 "cells": [
  {
   "cell_type": "code",
   "execution_count": 1,
   "metadata": {},
   "outputs": [],
   "source": [
    "import numpy as np\n",
    "import matplotlib.pyplot as plt"
   ]
  },
  {
   "cell_type": "code",
   "execution_count": 5,
   "metadata": {},
   "outputs": [],
   "source": [
    "X=np.array([[8,7],[4,10],[9,7],[7,10],[9,6],[4,8],[10,10],[2,7],[8,3],[7,5],[4,4],[4,6],[1,3],[2,5]])\n",
    "Y=np.array([1,1,1,1,1,1,1,-1,-1,-1,-1,-1,-1,-1])\n",
    "#print(len(X),len(Y))\n",
    "#for x in range(len(X)):\n",
    "    #print(X[x],Y[x])"
   ]
  },
  {
   "cell_type": "code",
   "execution_count": 6,
   "metadata": {},
   "outputs": [
    {
     "name": "stdout",
     "output_type": "stream",
     "text": [
      "[[ 1.  8.  7.]\n",
      " [ 1.  4. 10.]\n",
      " [ 1.  9.  7.]\n",
      " [ 1.  7. 10.]\n",
      " [ 1.  9.  6.]\n",
      " [ 1.  4.  8.]\n",
      " [ 1. 10. 10.]\n",
      " [ 1.  2.  7.]\n",
      " [ 1.  8.  3.]\n",
      " [ 1.  7.  5.]\n",
      " [ 1.  4.  4.]\n",
      " [ 1.  4.  6.]\n",
      " [ 1.  1.  3.]\n",
      " [ 1.  2.  5.]]\n"
     ]
    }
   ],
   "source": [
    "Xa= np.c_[np.ones(X.shape[0]), X]\n",
    "print(Xa)"
   ]
  },
  {
   "cell_type": "code",
   "execution_count": 7,
   "metadata": {},
   "outputs": [
    {
     "name": "stdout",
     "output_type": "stream",
     "text": [
      "[0.56829077 0.88098233 0.61320349]\n"
     ]
    }
   ],
   "source": [
    "w=np.random.rand(3)\n",
    "print(w)\n"
   ]
  },
  {
   "cell_type": "code",
   "execution_count": 8,
   "metadata": {},
   "outputs": [],
   "source": [
    "def predict(w,Xa):\n",
    "    h=[]\n",
    "    for x in range(len(Xa)):\n",
    "        val=0\n",
    "        Xa1=Xa[x]\n",
    "        for ix,iy in zip(Xa1,w):\n",
    "            val+=ix*iy\n",
    "        if(val>0):\n",
    "            h.append(1)\n",
    "        elif(val<0):\n",
    "            h.append(-1)\n",
    "    return h\n"
   ]
  },
  {
   "cell_type": "code",
   "execution_count": 9,
   "metadata": {},
   "outputs": [],
   "source": [
    "def missclass(h,Y):\n",
    "    miss=[]\n",
    "    for i in range(len(Y)):\n",
    "        if(h[i]!=Y[i]):\n",
    "            miss.append(i)\n",
    "    return miss\n"
   ]
  },
  {
   "cell_type": "code",
   "execution_count": 10,
   "metadata": {},
   "outputs": [],
   "source": [
    "#rn=np.random.choice(miss)\n",
    "#print(rn)\n",
    "#rx=Xa[rn]\n",
    "#ry=Y[rn]\n",
    "#print(rx)\n",
    "#print(ry)\n",
    "\n",
    "#print(w)\n",
    "#w=w+rx*ry\n",
    "#print(w)"
   ]
  },
  {
   "cell_type": "code",
   "execution_count": 11,
   "metadata": {},
   "outputs": [
    {
     "name": "stdout",
     "output_type": "stream",
     "text": [
      "[-61.09246844   2.3758302    8.01701216]\n"
     ]
    }
   ],
   "source": [
    "w=np.random.rand(3)\n",
    "h=predict(w,Xa)\n",
    "miss=missclass(h,Y)\n",
    "while (len(miss)>0):\n",
    "    rn=np.random.choice(miss)\n",
    "    rx=Xa[rn]\n",
    "    ry=Y[rn]\n",
    "    w=w+rx*ry\n",
    "    h=predict(w,Xa)\n",
    "    miss=missclass(h,Y)\n",
    "\n",
    "print(w)"
   ]
  },
  {
   "cell_type": "code",
   "execution_count": 12,
   "metadata": {},
   "outputs": [
    {
     "name": "stdout",
     "output_type": "stream",
     "text": [
      "[1, 1, 1, 1, 1, 1, 1, -1, -1, -1, -1, -1, -1, -1]\n"
     ]
    }
   ],
   "source": [
    "p=predict(w,Xa)\n",
    "print(p)"
   ]
  },
  {
   "cell_type": "code",
   "execution_count": 13,
   "metadata": {},
   "outputs": [
    {
     "name": "stdout",
     "output_type": "stream",
     "text": [
      "[-1]\n"
     ]
    }
   ],
   "source": [
    "u=[1,5,5]\n",
    "p=predict(w,[u])\n",
    "print(p)"
   ]
  },
  {
   "cell_type": "code",
   "execution_count": null,
   "metadata": {},
   "outputs": [],
   "source": []
  }
 ],
 "metadata": {
  "kernelspec": {
   "display_name": "Python 3",
   "language": "python",
   "name": "python3"
  },
  "language_info": {
   "codemirror_mode": {
    "name": "ipython",
    "version": 3
   },
   "file_extension": ".py",
   "mimetype": "text/x-python",
   "name": "python",
   "nbconvert_exporter": "python",
   "pygments_lexer": "ipython3",
   "version": "3.7.3"
  }
 },
 "nbformat": 4,
 "nbformat_minor": 2
}
