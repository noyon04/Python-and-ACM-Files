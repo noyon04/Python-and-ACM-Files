{
 "cells": [
  {
   "cell_type": "code",
   "execution_count": 5,
   "metadata": {},
   "outputs": [
    {
     "name": "stdout",
     "output_type": "stream",
     "text": [
      "4 73 77 78\n",
      "[75, 77, 80]\n"
     ]
    }
   ],
   "source": [
    "n=int(input())\n",
    "\n",
    "grades=[]\n",
    "for i in range(n):\n",
    "    temp=int(input())\n",
    "    if(temp>=38):\n",
    "        temp2=int(temp/5)\n",
    "        temp2=(temp2+1)*5\n",
    "        if((temp2-temp)<3):\n",
    "            grades.append(temp2)\n",
    "        else:\n",
    "            grades.append(temp)\n",
    "    else:\n",
    "        grades.append(temp)\n",
    "for i in grades:\n",
    "    print(i)"
   ]
  },
  {
   "cell_type": "raw",
   "metadata": {},
   "source": []
  }
 ],
 "metadata": {
  "kernelspec": {
   "display_name": "Python 3",
   "language": "python",
   "name": "python3"
  },
  "language_info": {
   "codemirror_mode": {
    "name": "ipython",
    "version": 3
   },
   "file_extension": ".py",
   "mimetype": "text/x-python",
   "name": "python",
   "nbconvert_exporter": "python",
   "pygments_lexer": "ipython3",
   "version": "3.7.3"
  }
 },
 "nbformat": 4,
 "nbformat_minor": 2
}
