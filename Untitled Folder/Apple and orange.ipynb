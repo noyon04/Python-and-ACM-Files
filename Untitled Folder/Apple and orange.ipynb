{
 "cells": [
  {
   "cell_type": "code",
   "execution_count": 9,
   "metadata": {},
   "outputs": [
    {
     "name": "stdout",
     "output_type": "stream",
     "text": [
      "7 11\n",
      "5 15\n",
      "3 2\n",
      "-2 2 1\n",
      "5 -6\n",
      "1\n",
      "1\n"
     ]
    }
   ],
   "source": [
    "st = input().split()\n",
    "s = int(st[0])\n",
    "t = int(st[1])\n",
    "ab = input().split()\n",
    "a = int(ab[0])\n",
    "b = int(ab[1])\n",
    "mn = input().split()\n",
    "m = int(mn[0])\n",
    "n = int(mn[1])\n",
    "apples = list(map(int, input().rstrip().split()))\n",
    "oranges = list(map(int, input().rstrip().split()))\n",
    "apl=0\n",
    "orng=0\n",
    "for i in apples:\n",
    "    temp=i+a\n",
    "    if(temp>=s and temp<=t):\n",
    "        apl=apl+1\n",
    "for i in oranges:\n",
    "    temp=i+b\n",
    "    if(temp>=s and temp<=t):\n",
    "        orng=orng+1\n",
    "print(apl)\n",
    "print(orng)\n",
    "    "
   ]
  },
  {
   "cell_type": "code",
   "execution_count": 2,
   "metadata": {},
   "outputs": [
    {
     "data": {
      "text/plain": [
       "[-2, 2, 1]"
      ]
     },
     "execution_count": 2,
     "metadata": {},
     "output_type": "execute_result"
    }
   ],
   "source": [
    "apples"
   ]
  },
  {
   "cell_type": "code",
   "execution_count": 3,
   "metadata": {},
   "outputs": [
    {
     "data": {
      "text/plain": [
       "[5, -6]"
      ]
     },
     "execution_count": 3,
     "metadata": {},
     "output_type": "execute_result"
    }
   ],
   "source": [
    "oranges"
   ]
  },
  {
   "cell_type": "code",
   "execution_count": 8,
   "metadata": {},
   "outputs": [
    {
     "name": "stdout",
     "output_type": "stream",
     "text": [
      "1\n",
      "1\n"
     ]
    }
   ],
   "source": [
    "apl=0\n",
    "orng=0\n",
    "for i in apples:\n",
    "    temp=i+a\n",
    "    if(temp>=s and temp<=t):\n",
    "        apl=apl+1\n",
    "for i in oranges:\n",
    "    temp=i+b\n",
    "    if(temp>=s and temp<=t):\n",
    "        orng=orng+1\n",
    "print(apl)\n",
    "print(orng)\n",
    "    "
   ]
  },
  {
   "cell_type": "code",
   "execution_count": 7,
   "metadata": {},
   "outputs": [
    {
     "data": {
      "text/plain": [
       "(1, 1)"
      ]
     },
     "execution_count": 7,
     "metadata": {},
     "output_type": "execute_result"
    }
   ],
   "source": []
  },
  {
   "cell_type": "code",
   "execution_count": null,
   "metadata": {},
   "outputs": [],
   "source": []
  }
 ],
 "metadata": {
  "kernelspec": {
   "display_name": "Python 3",
   "language": "python",
   "name": "python3"
  },
  "language_info": {
   "codemirror_mode": {
    "name": "ipython",
    "version": 3
   },
   "file_extension": ".py",
   "mimetype": "text/x-python",
   "name": "python",
   "nbconvert_exporter": "python",
   "pygments_lexer": "ipython3",
   "version": "3.7.3"
  }
 },
 "nbformat": 4,
 "nbformat_minor": 2
}
