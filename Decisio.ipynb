{
 "cells": [
  {
   "cell_type": "code",
   "execution_count": 101,
   "metadata": {},
   "outputs": [],
   "source": [
    "import numpy as np\n",
    "import operator as op"
   ]
  },
  {
   "cell_type": "code",
   "execution_count": 70,
   "metadata": {},
   "outputs": [],
   "source": [
    "x = [[17,1],[25,1],[38,1],[42,2],[44,2],[47,3],[49,3],[50,4],[54,4],[53,4]]\n"
   ]
  },
  {
   "cell_type": "code",
   "execution_count": 138,
   "metadata": {},
   "outputs": [
    {
     "name": "stdout",
     "output_type": "stream",
     "text": [
      "1\n"
     ]
    }
   ],
   "source": [
    "#print(x[0][1])"
   ]
  },
  {
   "cell_type": "code",
   "execution_count": 72,
   "metadata": {},
   "outputs": [],
   "source": [
    "def split(x, th):\n",
    "    lb=[]\n",
    "    rb=[]\n",
    "    for row in x:\n",
    "        v=row[0]\n",
    "        if v<=th:\n",
    "            lb.append(row)\n",
    "        else:\n",
    "            rb.append(row)\n",
    "    return lb,rb"
   ]
  },
  {
   "cell_type": "code",
   "execution_count": 78,
   "metadata": {},
   "outputs": [],
   "source": [
    "\n"
   ]
  },
  {
   "cell_type": "code",
   "execution_count": 79,
   "metadata": {},
   "outputs": [],
   "source": [
    "def cc(r):\n",
    "    cls={}\n",
    "    for row in r:\n",
    "        c=row[-1]\n",
    "        if c not in cls:\n",
    "            cls[c]=1\n",
    "        else:\n",
    "            cls[c]+=1\n",
    "    return cls\n"
   ]
  },
  {
   "cell_type": "code",
   "execution_count": 80,
   "metadata": {},
   "outputs": [],
   "source": [
    "def gini(r):\n",
    "    n=cc(r)\n",
    "\n",
    "    imp=1\n",
    "    for i in n:\n",
    "        p=n[i]/float(len(r)) \n",
    "        imp=imp-p**2 \n",
    "    return imp"
   ]
  },
  {
   "cell_type": "code",
   "execution_count": 81,
   "metadata": {},
   "outputs": [],
   "source": [
    "ct=gini(x)\n"
   ]
  },
  {
   "cell_type": "code",
   "execution_count": 97,
   "metadata": {},
   "outputs": [],
   "source": [
    "aa={}\n",
    "for q in range(len(x)):\n",
    "    lb,rb=split(x,x[q][0])\n",
    "    l=x[q][0]\n",
    "    lg=gini(lb)\n",
    "    rg=gini(rb)\n",
    "\n",
    "    td=len(lb)+len(rb)\n",
    "    ig=ct- (len(lb)/td)*lg - (len(rb)/td)*rg\n",
    "    aa[l]=ig\n"
   ]
  },
  {
   "cell_type": "code",
   "execution_count": 118,
   "metadata": {},
   "outputs": [
    {
     "name": "stdout",
     "output_type": "stream",
     "text": [
      "{17: 0.07333333333333336, 25: 0.16499999999999992, 38: 0.28285714285714286, 42: 0.22333333333333327, 44: 0.26, 47: 0.22333333333333333, 49: 0.28285714285714286, 50: 0.16499999999999992, 54: 0.0, 53: 0.07333333333333336}\n",
      "38\n"
     ]
    }
   ],
   "source": [
    "result = max(aa.items(),key=op.itemgetter(1))[0]\n",
    "print(aa)\n",
    "print(result)\n"
   ]
  },
  {
   "cell_type": "code",
   "execution_count": 121,
   "metadata": {},
   "outputs": [],
   "source": [
    "def tt(x):\n",
    "    aa={}\n",
    "    for q in range(len(x)):\n",
    "        lb,rb=split(x,x[q][0])\n",
    "        l=x[q][0]\n",
    "        lg=gini(lb)\n",
    "        rg=gini(rb)\n",
    "\n",
    "        td=len(lb)+len(rb)\n",
    "        ig=ct- (len(lb)/td)*lg - (len(rb)/td)*rg\n",
    "        aa[l]=ig\n",
    "    result = max(aa.items(),key=op.itemgetter(1))[0]\n",
    "    return result\n",
    "        "
   ]
  },
  {
   "cell_type": "code",
   "execution_count": 140,
   "metadata": {},
   "outputs": [
    {
     "name": "stdout",
     "output_type": "stream",
     "text": [
      "[[17, 1], [25, 1], [38, 1]]\n",
      "[[42, 2], [44, 2], [47, 3], [49, 3], [50, 4], [54, 4], [53, 4]]\n",
      "49\n",
      "[[42, 2], [44, 2], [47, 3], [49, 3]]\n",
      "[[50, 4], [54, 4], [53, 4]]\n",
      "44\n",
      "[38, 49, 44]\n"
     ]
    }
   ],
   "source": [
    "arr=[]\n",
    "lb,rb=split(x,result)\n",
    "\n",
    "arr.append(result)\n",
    "print(lb)\n",
    "print(rb)\n",
    "lq1=tt(rb)\n",
    "print(lq1)\n",
    "arr.append(lq1)\n",
    "lb,rb=split(rb,lq1)\n",
    "print(lb)\n",
    "print(rb)\n",
    "lq2=tt(lb)\n",
    "print(lq2)\n",
    "arr.append(lq2)\n",
    "print(arr)"
   ]
  },
  {
   "cell_type": "code",
   "execution_count": 149,
   "metadata": {},
   "outputs": [
    {
     "name": "stdout",
     "output_type": "stream",
     "text": [
      "52 4\n",
      "20 1\n"
     ]
    }
   ],
   "source": [
    "test=[52,20]\n",
    "for i in range(len(test)):\n",
    "    c=test[i]\n",
    "    if(c<=arr[0]):\n",
    "        print(c,1)\n",
    "    elif(c<=arr[1]):\n",
    "        if(c<=arr[2]):\n",
    "            print(c,2)\n",
    "        else:\n",
    "            print(c,3)\n",
    "        \n",
    "    else:\n",
    "        print(c,4)\n",
    "    "
   ]
  },
  {
   "cell_type": "code",
   "execution_count": null,
   "metadata": {},
   "outputs": [],
   "source": [
    "test=[52,20]\n",
    "c=test\n",
    "for i in range(len(test)):\n",
    "    c=test[i]\n",
    "    d=pp(c)\n",
    "    \n",
    "    "
   ]
  },
  {
   "cell_type": "code",
   "execution_count": null,
   "metadata": {},
   "outputs": [],
   "source": [
    "def pp(c):\n",
    "    for j in range(len(arr)):\n",
    "        if(c<=arr[j]):\n",
    "            "
   ]
  }
 ],
 "metadata": {
  "kernelspec": {
   "display_name": "Python 3",
   "language": "python",
   "name": "python3"
  },
  "language_info": {
   "codemirror_mode": {
    "name": "ipython",
    "version": 3
   },
   "file_extension": ".py",
   "mimetype": "text/x-python",
   "name": "python",
   "nbconvert_exporter": "python",
   "pygments_lexer": "ipython3",
   "version": "3.7.3"
  }
 },
 "nbformat": 4,
 "nbformat_minor": 2
}
