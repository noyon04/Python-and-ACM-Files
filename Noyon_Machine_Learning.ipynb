{
 "cells": [
  {
   "cell_type": "code",
   "execution_count": 26,
   "metadata": {},
   "outputs": [],
   "source": [
    "import numpy as np"
   ]
  },
  {
   "cell_type": "markdown",
   "metadata": {},
   "source": [
    "# Covariance Matrix"
   ]
  },
  {
   "cell_type": "code",
   "execution_count": 27,
   "metadata": {},
   "outputs": [],
   "source": [
    "x=np.array([[3,12,30],[16,6,45],[5,8,11]])"
   ]
  },
  {
   "cell_type": "code",
   "execution_count": 28,
   "metadata": {},
   "outputs": [],
   "source": [
    "x1=np.average(x, axis=0)"
   ]
  },
  {
   "cell_type": "code",
   "execution_count": 29,
   "metadata": {},
   "outputs": [
    {
     "name": "stdout",
     "output_type": "stream",
     "text": [
      "[[ -5.           3.33333333   1.33333333]\n",
      " [  8.          -2.66666667  16.33333333]\n",
      " [ -3.          -0.66666667 -17.66666667]]\n"
     ]
    }
   ],
   "source": [
    "m=x-x1\n",
    "print(m)"
   ]
  },
  {
   "cell_type": "code",
   "execution_count": 30,
   "metadata": {},
   "outputs": [
    {
     "data": {
      "text/plain": [
       "array([[ 49.        , -18.        ,  88.5       ],\n",
       "       [-18.        ,   9.33333333, -13.66666667],\n",
       "       [ 88.5       , -13.66666667, 290.33333333]])"
      ]
     },
     "execution_count": 30,
     "metadata": {},
     "output_type": "execute_result"
    }
   ],
   "source": [
    "convm=np.dot(m.T,m)/2  # or conv=np.cov(m.T)\n",
    "convm"
   ]
  },
  {
   "cell_type": "markdown",
   "metadata": {},
   "source": [
    "# ConFusion Matrix"
   ]
  },
  {
   "cell_type": "code",
   "execution_count": 31,
   "metadata": {},
   "outputs": [
    {
     "name": "stdout",
     "output_type": "stream",
     "text": [
      "3 2 1 1\n",
      "Accuracy=  71.42857142857143 %\n",
      "Recall=  75.0 %\n",
      "Precision=  75.0 %\n",
      "TPR=  75.0 %\n",
      "FPR=  33.33333333333333 %\n"
     ]
    }
   ],
   "source": [
    "y=[0,0,1,1,1,1,0]\n",
    "p=[0,1,1,1,1,0,0]\n",
    "#accuracy,recall,precision,TPR,FPR\n",
    "#1=positive, 0=negative\n",
    "tp=0\n",
    "tn=0\n",
    "fp=0\n",
    "fn=0\n",
    "for i in range(7):\n",
    "    if(y[i]==1 and p[i]==1):\n",
    "        tp=tp+1\n",
    "    elif(y[i]==0 and p[i]==0):\n",
    "        tn=tn+1\n",
    "    elif(y[i]==1 and p[i]==0):\n",
    "        fn=fn+1\n",
    "    elif(y[i]==0 and p[i]==1):\n",
    "        fp=fp+1\n",
    "    \n",
    "        \n",
    "print(tp,tn,fp,fn)\n",
    "    \n",
    "accuracy=(tp+tn)/len(y)\n",
    "recall=tp/(tp+fn)\n",
    "precision=tp/(tp+fp)\n",
    "tpr=tp/(tp+fn)\n",
    "fpr=fp/(fp+tn)\n",
    "print(\"Accuracy= \",accuracy*100,\"%\")\n",
    "print(\"Recall= \",recall*100,\"%\")\n",
    "print(\"Precision= \",precision*100,\"%\")\n",
    "print(\"TPR= \",tpr*100,\"%\")\n",
    "print(\"FPR= \",fpr*100,\"%\")\n",
    "\n",
    "    \n"
   ]
  },
  {
   "cell_type": "markdown",
   "metadata": {},
   "source": [
    "# Neural network"
   ]
  },
  {
   "cell_type": "code",
   "execution_count": 32,
   "metadata": {},
   "outputs": [],
   "source": [
    "w=np.array([[2.7,0.8,0.7],\n",
    "           [3,-6,6.4],\n",
    "           [3,6.6,-6.3]])\n",
    "w2=np.array([7.3,6.0,-8.8,-8.8])"
   ]
  },
  {
   "cell_type": "code",
   "execution_count": 33,
   "metadata": {},
   "outputs": [
    {
     "name": "stdout",
     "output_type": "stream",
     "text": [
      "3.5 -3.0 9.6\n"
     ]
    }
   ],
   "source": [
    "x=[1,1,0]\n",
    "h1=np.dot(w[0].T,x)\n",
    "h2=np.dot(w[1].T,x)\n",
    "h3=np.dot(w[2].T,x)\n",
    "print(h1,h2,h3)"
   ]
  },
  {
   "cell_type": "code",
   "execution_count": 34,
   "metadata": {},
   "outputs": [],
   "source": [
    "h1=1/(1+np.exp(-h1))\n",
    "h2=1/(1+np.exp(-h2))\n",
    "h3=1/(1+np.exp(-h3))"
   ]
  },
  {
   "cell_type": "code",
   "execution_count": 35,
   "metadata": {},
   "outputs": [
    {
     "name": "stdout",
     "output_type": "stream",
     "text": [
      "0.9706877692486436 0.04742587317756678 0.9999322758503804\n"
     ]
    }
   ],
   "source": [
    "print(h1,h2,h3)"
   ]
  },
  {
   "cell_type": "code",
   "execution_count": 36,
   "metadata": {},
   "outputs": [],
   "source": [
    "h=[1,h1,h2,h3]"
   ]
  },
  {
   "cell_type": "code",
   "execution_count": 37,
   "metadata": {},
   "outputs": [],
   "source": [
    "y=np.dot(w2.T,h)\n",
    "y=1/(1+np.exp(-y))"
   ]
  },
  {
   "cell_type": "code",
   "execution_count": 38,
   "metadata": {},
   "outputs": [
    {
     "data": {
      "text/plain": [
       "0.980302604863478"
      ]
     },
     "execution_count": 38,
     "metadata": {},
     "output_type": "execute_result"
    }
   ],
   "source": [
    "y"
   ]
  },
  {
   "cell_type": "code",
   "execution_count": 39,
   "metadata": {},
   "outputs": [],
   "source": [
    "#w2[i]=2(pr-y)*pr(1-pr)*h[i]\n",
    "#w[i][j]=2(pr-y)*pr(1-pr)*w2[i+1]*h[i+1](1-h[i+1])*x[j]"
   ]
  },
  {
   "cell_type": "markdown",
   "metadata": {},
   "source": [
    "# K-Means"
   ]
  },
  {
   "cell_type": "code",
   "execution_count": 40,
   "metadata": {},
   "outputs": [],
   "source": [
    "x=np.array([[5,4],[4,6],[7,10],[1,3],[7,2],[8,9]])"
   ]
  },
  {
   "cell_type": "code",
   "execution_count": 41,
   "metadata": {},
   "outputs": [
    {
     "name": "stdout",
     "output_type": "stream",
     "text": [
      "[[ 5  4]\n",
      " [ 4  6]\n",
      " [ 7 10]\n",
      " [ 1  3]\n",
      " [ 7  2]\n",
      " [ 8  9]]\n"
     ]
    },
    {
     "data": {
      "text/plain": [
       "array([5, 4])"
      ]
     },
     "execution_count": 41,
     "metadata": {},
     "output_type": "execute_result"
    }
   ],
   "source": [
    "print(x)\n",
    "x[0]"
   ]
  },
  {
   "cell_type": "code",
   "execution_count": 42,
   "metadata": {},
   "outputs": [
    {
     "name": "stdout",
     "output_type": "stream",
     "text": [
      "[array([5, 4]), array([4, 6]), array([1, 3])]\n",
      "[array([ 7, 10]), array([7, 2]), array([8, 9])]\n"
     ]
    }
   ],
   "source": [
    "d=[]\n",
    "d2=[]\n",
    "g1=[]\n",
    "g2=[]\n",
    "#c1=[52, 70]\n",
    "#c2=[64, 19]\n",
    "c1=[4,4]\n",
    "c2=[6,5]\n",
    "for i in range(len(x)):\n",
    "    d.append(np.sqrt((x[i][0]-c1[0])**2+(x[i][1]-c1[1])**2))\n",
    "    d2.append(np.sqrt((x[i][0]-c2[0])**2+(x[i][1]-c2[1])**2))\n",
    "    if(d[i]<d2[i]):\n",
    "        g1.append(x[i])\n",
    "    else:\n",
    "        g2.append(x[i])\n",
    "        \n",
    "print(g1)\n",
    "print(g2)"
   ]
  },
  {
   "cell_type": "code",
   "execution_count": 43,
   "metadata": {},
   "outputs": [],
   "source": [
    "av=np.mean(g1,axis=0)\n",
    "av2=np.mean(g2,axis=0)"
   ]
  },
  {
   "cell_type": "code",
   "execution_count": 44,
   "metadata": {},
   "outputs": [
    {
     "data": {
      "text/plain": [
       "(array([3.33333333, 4.33333333]), array([7.33333333, 7.        ]))"
      ]
     },
     "execution_count": 44,
     "metadata": {},
     "output_type": "execute_result"
    }
   ],
   "source": [
    "av,av2"
   ]
  },
  {
   "cell_type": "code",
   "execution_count": null,
   "metadata": {},
   "outputs": [],
   "source": []
  },
  {
   "cell_type": "code",
   "execution_count": null,
   "metadata": {},
   "outputs": [],
   "source": []
  }
 ],
 "metadata": {
  "kernelspec": {
   "display_name": "Python 3",
   "language": "python",
   "name": "python3"
  },
  "language_info": {
   "codemirror_mode": {
    "name": "ipython",
    "version": 3
   },
   "file_extension": ".py",
   "mimetype": "text/x-python",
   "name": "python",
   "nbconvert_exporter": "python",
   "pygments_lexer": "ipython3",
   "version": "3.7.3"
  }
 },
 "nbformat": 4,
 "nbformat_minor": 2
}
