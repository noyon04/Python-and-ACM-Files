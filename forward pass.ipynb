{
 "cells": [
  {
   "cell_type": "code",
   "execution_count": 1,
   "metadata": {},
   "outputs": [],
   "source": [
    "import numpy as np"
   ]
  },
  {
   "cell_type": "code",
   "execution_count": 29,
   "metadata": {},
   "outputs": [],
   "source": [
    "x=np.array([[1,2],[4,5],[12,7],[16,10],[20,5],[5,8]])\n",
    "y=np.array([[0,1],[0,1],[1,0],[1,0],[0,1],[1,0]])\n",
    "w=np.array([[0.1,0.2],[0.3,0.4]])\n",
    "b=[0.5,0.6]"
   ]
  },
  {
   "cell_type": "code",
   "execution_count": 30,
   "metadata": {},
   "outputs": [],
   "source": [
    "z=np.dot(x,w)+b"
   ]
  },
  {
   "cell_type": "code",
   "execution_count": 31,
   "metadata": {},
   "outputs": [],
   "source": [
    "def softmax(z):\n",
    "    a=[]\n",
    "    for i in z:\n",
    "        b0=np.exp(i[0])/(np.exp(i[0])+np.exp(i[1]))\n",
    "        b1=np.exp(i[1])/(np.exp(i[0])+np.exp(i[1]))\n",
    "        a.append([b0,b1])\n",
    "    return a\n",
    "        "
   ]
  },
  {
   "cell_type": "code",
   "execution_count": 32,
   "metadata": {},
   "outputs": [],
   "source": [
    "a=softmax(z)"
   ]
  },
  {
   "cell_type": "code",
   "execution_count": 33,
   "metadata": {},
   "outputs": [
    {
     "data": {
      "text/plain": [
       "[[0.401312339887548, 0.598687660112452],\n",
       " [0.2689414213699951, 0.7310585786300049],\n",
       " [0.1192029220221175, 0.8807970779778824],\n",
       " [0.06297335605699649, 0.9370266439430035],\n",
       " [0.06913842034334684, 0.9308615796566533],\n",
       " [0.19781611144141828, 0.8021838885585818]]"
      ]
     },
     "execution_count": 33,
     "metadata": {},
     "output_type": "execute_result"
    }
   ],
   "source": [
    "a"
   ]
  },
  {
   "cell_type": "code",
   "execution_count": 34,
   "metadata": {},
   "outputs": [
    {
     "data": {
      "text/plain": [
       "array([[1.2, 1.6],\n",
       "       [2.4, 3.4],\n",
       "       [3.8, 5.8],\n",
       "       [5.1, 7.8],\n",
       "       [4. , 6.6],\n",
       "       [3.4, 4.8]])"
      ]
     },
     "execution_count": 34,
     "metadata": {},
     "output_type": "execute_result"
    }
   ],
   "source": [
    "z"
   ]
  },
  {
   "cell_type": "code",
   "execution_count": 40,
   "metadata": {},
   "outputs": [],
   "source": [
    "def loss(y,a):\n",
    "    l=[]\n",
    "    for i in range(len(y)):\n",
    "        temp=-y[i][0]*np.log(a[i][0])-y[i][1]*np.log(a[i][1])\n",
    "        l.append(temp)\n",
    "    return l"
   ]
  },
  {
   "cell_type": "code",
   "execution_count": 41,
   "metadata": {},
   "outputs": [],
   "source": [
    "l=loss(y,a)"
   ]
  },
  {
   "cell_type": "code",
   "execution_count": 42,
   "metadata": {},
   "outputs": [
    {
     "data": {
      "text/plain": [
       "[0.5130152523999526,\n",
       " 0.3132616875182228,\n",
       " 2.126928011042973,\n",
       " 2.7650435617765905,\n",
       " 0.0716446919676697,\n",
       " 1.6204174099184507]"
      ]
     },
     "execution_count": 42,
     "metadata": {},
     "output_type": "execute_result"
    }
   ],
   "source": [
    "l"
   ]
  },
  {
   "cell_type": "code",
   "execution_count": 46,
   "metadata": {},
   "outputs": [],
   "source": [
    "avg_loss=np.mean(l)"
   ]
  },
  {
   "cell_type": "code",
   "execution_count": 47,
   "metadata": {},
   "outputs": [
    {
     "data": {
      "text/plain": [
       "1.2350517691039766"
      ]
     },
     "execution_count": 47,
     "metadata": {},
     "output_type": "execute_result"
    }
   ],
   "source": [
    "avg_loss"
   ]
  },
  {
   "cell_type": "code",
   "execution_count": null,
   "metadata": {},
   "outputs": [],
   "source": []
  }
 ],
 "metadata": {
  "kernelspec": {
   "display_name": "Python 3",
   "language": "python",
   "name": "python3"
  },
  "language_info": {
   "codemirror_mode": {
    "name": "ipython",
    "version": 3
   },
   "file_extension": ".py",
   "mimetype": "text/x-python",
   "name": "python",
   "nbconvert_exporter": "python",
   "pygments_lexer": "ipython3",
   "version": "3.7.3"
  }
 },
 "nbformat": 4,
 "nbformat_minor": 2
}
