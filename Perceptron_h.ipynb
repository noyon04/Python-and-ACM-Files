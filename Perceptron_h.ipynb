{
 "cells": [
  {
   "cell_type": "code",
   "execution_count": 2,
   "metadata": {},
   "outputs": [],
   "source": [
    "import numpy as np\n",
    "import matplotlib.pyplot as plt\n",
    "from sklearn.metrics import accuracy_score"
   ]
  },
  {
   "cell_type": "code",
   "execution_count": 3,
   "metadata": {},
   "outputs": [],
   "source": [
    "X=np.array([[8,7],[4,10],[9,7],[7,10],[9,6],[4,8],[10,10],[2,7],[8,3],[7,5],[4,4],[4,6],[1,3],[2,5]])\n",
    "Y=np.array([1,1,1,1,1,1,1,-1,-1,-1,-1,-1,-1,-1])"
   ]
  },
  {
   "cell_type": "code",
   "execution_count": 4,
   "metadata": {},
   "outputs": [
    {
     "name": "stdout",
     "output_type": "stream",
     "text": [
      "[[ 1.  8.  7.]\n",
      " [ 1.  4. 10.]\n",
      " [ 1.  9.  7.]\n",
      " [ 1.  7. 10.]\n",
      " [ 1.  9.  6.]\n",
      " [ 1.  4.  8.]\n",
      " [ 1. 10. 10.]\n",
      " [ 1.  2.  7.]\n",
      " [ 1.  8.  3.]\n",
      " [ 1.  7.  5.]\n",
      " [ 1.  4.  4.]\n",
      " [ 1.  4.  6.]\n",
      " [ 1.  1.  3.]\n",
      " [ 1.  2.  5.]]\n"
     ]
    }
   ],
   "source": [
    "Xa= np.c_[np.ones(X.shape[0]), X]\n",
    "print(Xa)"
   ]
  },
  {
   "cell_type": "code",
   "execution_count": 5,
   "metadata": {},
   "outputs": [
    {
     "name": "stdout",
     "output_type": "stream",
     "text": [
      "[0.89752093 0.23161288 0.4126983 ]\n"
     ]
    }
   ],
   "source": [
    "w=np.random.rand(3)\n",
    "print(w)"
   ]
  },
  {
   "cell_type": "code",
   "execution_count": 6,
   "metadata": {},
   "outputs": [],
   "source": [
    "def predict(w,Xa):\n",
    "    h=[]\n",
    "    for x in range(len(Xa)):\n",
    "        val=0\n",
    "        Xa1=Xa[x]\n",
    "        for ix,iy in zip(Xa1,w):\n",
    "            val+=ix*iy\n",
    "        if(val>=0):\n",
    "            h.append(1)\n",
    "        elif(val<0):\n",
    "            h.append(-1)\n",
    "    return h\n"
   ]
  },
  {
   "cell_type": "code",
   "execution_count": 7,
   "metadata": {},
   "outputs": [],
   "source": [
    "def missclass(h,Y):\n",
    "    miss=[]\n",
    "    for i in range(len(Y)):\n",
    "        if(h[i]!=Y[i]):\n",
    "            miss.append(i)\n",
    "    return miss\n"
   ]
  },
  {
   "cell_type": "code",
   "execution_count": 8,
   "metadata": {},
   "outputs": [
    {
     "name": "stdout",
     "output_type": "stream",
     "text": [
      "[-24.16186316   0.60491992   3.20720867]\n"
     ]
    }
   ],
   "source": [
    "w=np.random.rand(3)\n",
    "h=predict(w,Xa)\n",
    "miss=missclass(h,Y)\n",
    "while (len(miss)>0):\n",
    "    rn=np.random.choice(miss)\n",
    "    rx=Xa[rn]\n",
    "    ry=Y[rn]\n",
    "    w=w+rx*ry\n",
    "    h=predict(w,Xa)\n",
    "    miss=missclass(h,Y)\n",
    "\n",
    "print(w)"
   ]
  },
  {
   "cell_type": "code",
   "execution_count": 9,
   "metadata": {},
   "outputs": [
    {
     "name": "stdout",
     "output_type": "stream",
     "text": [
      "[1, 1, 1, 1, 1, 1, 1, -1, -1, -1, -1, -1, -1, -1]\n"
     ]
    }
   ],
   "source": [
    "p=predict(w,Xa)\n",
    "print(p)"
   ]
  },
  {
   "cell_type": "code",
   "execution_count": 10,
   "metadata": {},
   "outputs": [
    {
     "data": {
      "text/plain": [
       "100.0"
      ]
     },
     "execution_count": 10,
     "metadata": {},
     "output_type": "execute_result"
    }
   ],
   "source": [
    "accuracy_score(Y, p)*100"
   ]
  },
  {
   "cell_type": "code",
   "execution_count": 20,
   "metadata": {},
   "outputs": [],
   "source": [
    "in_x=np.array([[1,2],[4,5],[12,7],[16,10],[20,5],[5,8],[10,10]])\n",
    "in_y=[1,1,-1,-1,1,-1,-1]\n",
    "b=0.5\n",
    "in_w=[-0.2,0.1]"
   ]
  },
  {
   "cell_type": "code",
   "execution_count": 25,
   "metadata": {},
   "outputs": [],
   "source": [
    "def predict2(w,Xa,b):\n",
    "    h=[]\n",
    "    for x in range(len(Xa)):\n",
    "        val=0\n",
    "        Xa1=Xa[x]\n",
    "        #print(Xa1)\n",
    "        val=np.dot(Xa[x],w)+b\n",
    "        #for ix,iy in zip(Xa1,w):\n",
    "            #val+=ix*iy+b\n",
    "            #print(ix,iy)\n",
    "        print(\"value= \",val)\n",
    "        if(val>=0):\n",
    "            h.append(1)\n",
    "        elif(val<0):\n",
    "            h.append(-1)\n",
    "    print(h)\n",
    "    return h"
   ]
  },
  {
   "cell_type": "code",
   "execution_count": 26,
   "metadata": {},
   "outputs": [
    {
     "name": "stdout",
     "output_type": "stream",
     "text": [
      "value=  0.5\n",
      "value=  0.19999999999999996\n",
      "value=  -1.2000000000000002\n",
      "value=  -1.7000000000000002\n",
      "value=  -3.0\n",
      "value=  0.30000000000000004\n",
      "value=  -0.5\n",
      "[1, 1, -1, -1, -1, 1, -1]\n"
     ]
    }
   ],
   "source": [
    "h=predict2(in_w,in_x,b)"
   ]
  },
  {
   "cell_type": "code",
   "execution_count": null,
   "metadata": {},
   "outputs": [],
   "source": []
  }
 ],
 "metadata": {
  "kernelspec": {
   "display_name": "Python 3",
   "language": "python",
   "name": "python3"
  },
  "language_info": {
   "codemirror_mode": {
    "name": "ipython",
    "version": 3
   },
   "file_extension": ".py",
   "mimetype": "text/x-python",
   "name": "python",
   "nbconvert_exporter": "python",
   "pygments_lexer": "ipython3",
   "version": "3.7.3"
  }
 },
 "nbformat": 4,
 "nbformat_minor": 2
}
