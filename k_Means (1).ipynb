{
 "cells": [
  {
   "cell_type": "code",
   "execution_count": 1,
   "metadata": {},
   "outputs": [],
   "source": [
    "import numpy as np\n",
    "import matplotlib.pyplot as plt"
   ]
  },
  {
   "cell_type": "code",
   "execution_count": 2,
   "metadata": {},
   "outputs": [],
   "source": [
    "x=np.array([[ 12 , 39 ],\n",
    "[ 20 , 36 ],\n",
    "[ 28 , 30 ],\n",
    "[ 18 , 52 ],\n",
    "[ 29 , 54 ],\n",
    "[ 33 , 46 ],\n",
    "[ 24 , 55 ],\n",
    "[ 45 , 59 ],\n",
    "[ 45 , 63 ],\n",
    "[ 52 , 70 ],\n",
    "[ 51 , 66 ],\n",
    "[ 52 , 63 ],\n",
    "[ 55 , 58 ],\n",
    "[ 53 , 23 ],\n",
    "[ 55 , 14 ],\n",
    "[ 61 , 8 ],\n",
    "[ 64 , 19 ],\n",
    "[ 69 , 7 ],\n",
    "[ 72 , 24 ]])\n"
   ]
  },
  {
   "cell_type": "code",
   "execution_count": 3,
   "metadata": {},
   "outputs": [],
   "source": [
    "x=np.array([[5,4],[4,6],[7,10],[1,3],[7,2],[8,9]])"
   ]
  },
  {
   "cell_type": "code",
   "execution_count": 4,
   "metadata": {},
   "outputs": [
    {
     "name": "stdout",
     "output_type": "stream",
     "text": [
      "[[ 5  4]\n",
      " [ 4  6]\n",
      " [ 7 10]\n",
      " [ 1  3]\n",
      " [ 7  2]\n",
      " [ 8  9]]\n"
     ]
    },
    {
     "data": {
      "text/plain": [
       "array([5, 4])"
      ]
     },
     "execution_count": 4,
     "metadata": {},
     "output_type": "execute_result"
    }
   ],
   "source": [
    "print(x)\n",
    "x[0]"
   ]
  },
  {
   "cell_type": "code",
   "execution_count": null,
   "metadata": {},
   "outputs": [],
   "source": []
  },
  {
   "cell_type": "code",
   "execution_count": 5,
   "metadata": {},
   "outputs": [
    {
     "name": "stdout",
     "output_type": "stream",
     "text": [
      "[array([5, 4]), array([4, 6]), array([1, 3])]\n",
      "[array([ 7, 10]), array([7, 2]), array([8, 9])]\n"
     ]
    }
   ],
   "source": [
    "d=[]\n",
    "d2=[]\n",
    "g1=[]\n",
    "g2=[]\n",
    "#c1=[52, 70]\n",
    "#c2=[64, 19]\n",
    "c1=[4,4]\n",
    "c2=[6,5]\n",
    "for i in range(len(x)):\n",
    "    d.append(np.sqrt((x[i][0]-c1[0])**2+(x[i][1]-c1[1])**2))\n",
    "    d2.append(np.sqrt((x[i][0]-c2[0])**2+(x[i][1]-c2[1])**2))\n",
    "    if(d[i]<d2[i]):\n",
    "        g1.append(x[i])\n",
    "    else:\n",
    "        g2.append(x[i])\n",
    "        \n",
    "print(g1)\n",
    "print(g2)"
   ]
  },
  {
   "cell_type": "code",
   "execution_count": 6,
   "metadata": {},
   "outputs": [],
   "source": [
    "av=np.mean(g1,axis=0)\n",
    "av2=np.mean(g2,axis=0)"
   ]
  },
  {
   "cell_type": "code",
   "execution_count": 7,
   "metadata": {},
   "outputs": [
    {
     "data": {
      "text/plain": [
       "(array([3.33333333, 4.33333333]), array([7.33333333, 7.        ]))"
      ]
     },
     "execution_count": 7,
     "metadata": {},
     "output_type": "execute_result"
    }
   ],
   "source": [
    "av, av2"
   ]
  },
  {
   "cell_type": "code",
   "execution_count": 8,
   "metadata": {},
   "outputs": [],
   "source": [
    "def fun(c1,c2,x):\n",
    "    d=[]\n",
    "    d2=[]\n",
    "    g1=[]\n",
    "    g2=[]\n",
    "    for i in range(len(x)):\n",
    "        d.append(np.sqrt((x[i][0]-c1[0])**2+(x[i][1]-c1[1])**2))\n",
    "        d2.append(np.sqrt((x[i][0]-c2[0])**2+(x[i][1]-c2[1])**2))\n",
    "        if(d[i]<d2[i]):\n",
    "            g1.append(x[i])\n",
    "        else:\n",
    "            g2.append(x[i])\n",
    "        \n",
    "    av=np.mean(g1,axis=0)\n",
    "    av2=np.mean(g2,axis=0)\n",
    "    return av,av2"
   ]
  },
  {
   "cell_type": "code",
   "execution_count": 9,
   "metadata": {},
   "outputs": [],
   "source": [
    "c1=np.mean(g1,axis=0)\n",
    "c2=np.mean(g2,axis=0)\n",
    "\n",
    "rng=1000\n",
    "for i in range(rng):\n",
    "    c11,c22=fun(c1,c2,x)\n",
    "    if(c11.all()==c1.all()&c22.all()==c2.all()):\n",
    "        break\n",
    "    else:\n",
    "        c1=c11\n",
    "        c2=c22"
   ]
  },
  {
   "cell_type": "code",
   "execution_count": 10,
   "metadata": {},
   "outputs": [
    {
     "name": "stdout",
     "output_type": "stream",
     "text": [
      "[3.33333333 4.33333333] [7.33333333 7.        ]\n"
     ]
    }
   ],
   "source": [
    "print(c1,c2)"
   ]
  },
  {
   "cell_type": "code",
   "execution_count": 11,
   "metadata": {},
   "outputs": [
    {
     "data": {
      "image/png": "[encoded data removed]",
      "text/plain": [
       "<Figure size 432x288 with 1 Axes>"
      ]
     },
     "metadata": {
      "needs_background": "light"
     },
     "output_type": "display_data"
    }
   ],
   "source": [
    "\n",
    "plt.scatter(x[:,1],x[:,0],marker='*' ) \n",
    "plt.scatter(c1,c2)\n",
    "plt.show()"
   ]
  },
  {
   "cell_type": "code",
   "execution_count": 13,
   "metadata": {},
   "outputs": [
    {
     "data": {
      "text/plain": [
       "<matplotlib.collections.PathCollection at 0x23169dc4978>"
      ]
     },
     "execution_count": 13,
     "metadata": {},
     "output_type": "execute_result"
    },
    {
     "data": {
      "image/png": "[encoded data removed]",
      "text/plain": [
       "<Figure size 432x288 with 1 Axes>"
      ]
     },
     "metadata": {
      "needs_background": "light"
     },
     "output_type": "display_data"
    }
   ],
   "source": [
    "plt.scatter(x[:,0],x[:,1],marker='o' )\n",
    "\n",
    "colmap = {0: 'r', 1: 'g', 2: 'y', 3:'b'}\n",
    "\n",
    "plt.scatter(c1[0], c1[1], color=colmap[0])\n",
    "plt.scatter(c2[0], c2[1], color=colmap[1])\n"
   ]
  },
  {
   "cell_type": "code",
   "execution_count": null,
   "metadata": {},
   "outputs": [],
   "source": []
  }
 ],
 "metadata": {
  "kernelspec": {
   "display_name": "Python 3",
   "language": "python",
   "name": "python3"
  },
  "language_info": {
   "codemirror_mode": {
    "name": "ipython",
    "version": 3
   },
   "file_extension": ".py",
   "mimetype": "text/x-python",
   "name": "python",
   "nbconvert_exporter": "python",
   "pygments_lexer": "ipython3",
   "version": "3.7.3"
  }
 },
 "nbformat": 4,
 "nbformat_minor": 2
}
