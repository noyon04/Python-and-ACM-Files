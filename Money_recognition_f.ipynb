{
 "cells": [
  {
   "cell_type": "code",
   "execution_count": 1,
   "metadata": {},
   "outputs": [],
   "source": [
    "import cv2\n",
    "import numpy as np"
   ]
  },
  {
   "cell_type": "code",
   "execution_count": 2,
   "metadata": {},
   "outputs": [],
   "source": [
    "x_train=[]\n",
    "y_train=[]\n",
    "for i in range(0,101):\n",
    "    img=cv2.imread('C:\\\\Users\\\\User\\\\Downloads\\\\bangla-money\\\\Training\\\\1\\\\1_'+str(i)+'.jpg',2)\n",
    "    #inn=cv2.bilateralFilter(img,10,75,75)\n",
    "    temp=img.reshape(-1)\n",
    "    x_train.append(temp)\n",
    "    y_train.append(1)"
   ]
  },
  {
   "cell_type": "code",
   "execution_count": 3,
   "metadata": {},
   "outputs": [],
   "source": [
    "for i in range(0,213):\n",
    "    img=cv2.imread('C:\\\\Users\\\\User\\\\Downloads\\\\bangla-money\\\\Training\\\\2\\\\2_'+str(i)+'.jpg',2)\n",
    "    #inn=cv2.bilateralFilter(img,10,75,75)\n",
    "    temp=img.reshape(-1)\n",
    "    x_train.append(temp)\n",
    "    y_train.append(2)"
   ]
  },
  {
   "cell_type": "code",
   "execution_count": 4,
   "metadata": {},
   "outputs": [],
   "source": [
    "for i in range(0,213):\n",
    "    img=cv2.imread('C:\\\\Users\\\\User\\\\Downloads\\\\bangla-money\\\\Training\\\\5\\\\5_'+str(i)+'.jpg',2)\n",
    "    #inn=cv2.bilateralFilter(img,10,75,75)\n",
    "    temp=img.reshape(-1)\n",
    "    x_train.append(temp)\n",
    "    y_train.append(5)"
   ]
  },
  {
   "cell_type": "code",
   "execution_count": 5,
   "metadata": {},
   "outputs": [],
   "source": [
    "for i in range(0,213):\n",
    "    img=cv2.imread('C:\\\\Users\\\\User\\\\Downloads\\\\bangla-money\\\\Training\\\\10\\\\10_'+str(i)+'.jpg',2)\n",
    "    #inn=cv2.bilateralFilter(img,10,75,75)\n",
    "    temp=img.reshape(-1)\n",
    "    x_train.append(temp)\n",
    "    y_train.append(10)"
   ]
  },
  {
   "cell_type": "code",
   "execution_count": 6,
   "metadata": {},
   "outputs": [],
   "source": [
    "for i in range(0,173):\n",
    "    img=cv2.imread('C:\\\\Users\\\\User\\\\Downloads\\\\bangla-money\\\\Training\\\\20\\\\20_'+str(i)+'.jpg',2)\n",
    "    #inn=cv2.bilateralFilter(img,10,75,75)\n",
    "    temp=img.reshape(-1)\n",
    "    x_train.append(temp)\n",
    "    y_train.append(20)"
   ]
  },
  {
   "cell_type": "code",
   "execution_count": 7,
   "metadata": {},
   "outputs": [],
   "source": [
    "for i in range(0,213):\n",
    "    img=cv2.imread('C:\\\\Users\\\\User\\\\Downloads\\\\bangla-money\\\\Training\\\\50\\\\50_'+str(i)+'.jpg',2)\n",
    "    #inn=cv2.bilateralFilter(img,10,75,75)\n",
    "    temp=img.reshape(-1)\n",
    "    x_train.append(temp)\n",
    "    y_train.append(50)"
   ]
  },
  {
   "cell_type": "code",
   "execution_count": 8,
   "metadata": {},
   "outputs": [],
   "source": [
    "for i in range(0,208):\n",
    "    img=cv2.imread('C:\\\\Users\\\\User\\\\Downloads\\\\bangla-money\\\\Training\\\\100\\\\100_'+str(i)+'.jpg',2)\n",
    "    #inn=cv2.bilateralFilter(img,10,75,75)\n",
    "    temp=img.reshape(-1)\n",
    "    x_train.append(temp)\n",
    "    y_train.append(100)"
   ]
  },
  {
   "cell_type": "code",
   "execution_count": 9,
   "metadata": {},
   "outputs": [],
   "source": [
    "for i in range(0,136):\n",
    "    img=cv2.imread('C:\\\\Users\\\\User\\\\Downloads\\\\bangla-money\\\\Training\\\\500\\\\500_'+str(i)+'.jpg',2)\n",
    "    #inn=cv2.bilateralFilter(img,10,75,75)\n",
    "    temp=img.reshape(-1)\n",
    "    x_train.append(temp)\n",
    "    y_train.append(500)"
   ]
  },
  {
   "cell_type": "code",
   "execution_count": 10,
   "metadata": {},
   "outputs": [
    {
     "name": "stdout",
     "output_type": "stream",
     "text": [
      "The history saving thread hit an unexpected error (OperationalError('disk I/O error')).History will not be written to the database.\n"
     ]
    }
   ],
   "source": [
    "for i in range(0,167):\n",
    "    img=cv2.imread('C:\\\\Users\\\\User\\\\Downloads\\\\bangla-money\\\\Training\\\\1000\\\\1000_'+str(i)+'.jpg',2)\n",
    "    #inn=cv2.bilateralFilter(img,10,75,75)\n",
    "    temp=img.reshape(-1)\n",
    "    x_train.append(temp)\n",
    "    y_train.append(1000)"
   ]
  },
  {
   "cell_type": "code",
   "execution_count": 11,
   "metadata": {},
   "outputs": [],
   "source": [
    "x_train=np.array(x_train)\n",
    "y_train=np.array(y_train)"
   ]
  },
  {
   "cell_type": "code",
   "execution_count": 14,
   "metadata": {},
   "outputs": [],
   "source": [
    "import os\n",
    "path='C:\\\\Users\\\\User\\\\Downloads\\\\bangla-money\\\\Testing'\n",
    "test_files= [os.path.join(path,f) for f in os.listdir(path) if f.endswith('.jpg')]\n",
    "\n",
    "\n",
    "testing=[]\n",
    "for i in range(len(test_files)):\n",
    "    img=cv2.imread(test_files[i],2)\n",
    "    temp=img.reshape(-1)\n",
    "    testing.append(temp)\n",
    "\n",
    "testing=np.array(testing)\n",
    "  \n",
    "    \n",
    "sps=[ im.replace(path+'\\\\', '')  for im in test_files]\n",
    "test_pred=np.array( [  sp[:sp.index('_')] for sp in sps], dtype=int)"
   ]
  },
  {
   "cell_type": "code",
   "execution_count": 13,
   "metadata": {},
   "outputs": [],
   "source": [
    "from sklearn.metrics import accuracy_score"
   ]
  },
  {
   "cell_type": "markdown",
   "metadata": {},
   "source": [
    "# Logistic Regression"
   ]
  },
  {
   "cell_type": "code",
   "execution_count": null,
   "metadata": {},
   "outputs": [
    {
     "name": "stderr",
     "output_type": "stream",
     "text": [
      "C:\\Users\\User\\Anaconda3\\lib\\site-packages\\sklearn\\linear_model\\logistic.py:433: FutureWarning: Default solver will be changed to 'lbfgs' in 0.22. Specify a solver to silence this warning.\n",
      "  FutureWarning)\n",
      "C:\\Users\\User\\Anaconda3\\lib\\site-packages\\sklearn\\linear_model\\logistic.py:460: FutureWarning: Default multi_class will be changed to 'auto' in 0.22. Specify the multi_class option to silence this warning.\n",
      "  \"this warning.\", FutureWarning)\n"
     ]
    }
   ],
   "source": [
    "from sklearn.linear_model import LogisticRegression   \n",
    "  \n",
    "classifier = LogisticRegression(tol=0.00001) \n",
    "classifier.fit(X_train_std, y_train)\n",
    "y_pred_l=classifier.predict(X_test_std)"
   ]
  },
  {
   "cell_type": "code",
   "execution_count": 25,
   "metadata": {},
   "outputs": [
    {
     "data": {
      "text/plain": [
       "93.3933933933934"
      ]
     },
     "execution_count": 25,
     "metadata": {},
     "output_type": "execute_result"
    }
   ],
   "source": [
    "accuracy_score(test_pred, y_pred_l)*100"
   ]
  },
  {
   "cell_type": "markdown",
   "metadata": {},
   "source": [
    "# Create CSV File"
   ]
  },
  {
   "cell_type": "code",
   "execution_count": 17,
   "metadata": {},
   "outputs": [],
   "source": [
    "import csv\n",
    "with open('log.csv','w',newline='') as file:\n",
    "    writer=csv.writer(file)\n",
    "    writer.writerow(['Id','Category'])\n",
    "    for i, x in enumerate(y_pred_l):\n",
    "        writer.writerow([i,x])"
   ]
  },
  {
   "cell_type": "code",
   "execution_count": 15,
   "metadata": {},
   "outputs": [
    {
     "name": "stderr",
     "output_type": "stream",
     "text": [
      "C:\\Users\\User\\Anaconda3\\lib\\site-packages\\sklearn\\utils\\validation.py:595: DataConversionWarning: Data with input dtype uint8 was converted to float64 by StandardScaler.\n",
      "  warnings.warn(msg, DataConversionWarning)\n",
      "C:\\Users\\User\\Anaconda3\\lib\\site-packages\\sklearn\\utils\\validation.py:595: DataConversionWarning: Data with input dtype uint8 was converted to float64 by StandardScaler.\n",
      "  warnings.warn(msg, DataConversionWarning)\n",
      "C:\\Users\\User\\Anaconda3\\lib\\site-packages\\sklearn\\utils\\validation.py:595: DataConversionWarning: Data with input dtype uint8 was converted to float64 by StandardScaler.\n",
      "  warnings.warn(msg, DataConversionWarning)\n"
     ]
    }
   ],
   "source": [
    "\n",
    "from sklearn.preprocessing import StandardScaler\n",
    "\n",
    "stdsc = StandardScaler()\n",
    "X_train_std = stdsc.fit_transform(x_train)\n",
    "X_test_std = stdsc.transform(testing)"
   ]
  },
  {
   "cell_type": "code",
   "execution_count": null,
   "metadata": {},
   "outputs": [],
   "source": []
  }
 ],
 "metadata": {
  "kernelspec": {
   "display_name": "Python 3",
   "language": "python",
   "name": "python3"
  },
  "language_info": {
   "codemirror_mode": {
    "name": "ipython",
    "version": 3
   },
   "file_extension": ".py",
   "mimetype": "text/x-python",
   "name": "python",
   "nbconvert_exporter": "python",
   "pygments_lexer": "ipython3",
   "version": "3.7.3"
  }
 },
 "nbformat": 4,
 "nbformat_minor": 2
}
