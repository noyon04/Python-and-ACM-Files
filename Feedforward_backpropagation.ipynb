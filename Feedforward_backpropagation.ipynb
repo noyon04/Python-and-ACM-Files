{
 "cells": [
  {
   "cell_type": "code",
   "execution_count": 1,
   "metadata": {},
   "outputs": [],
   "source": [
    "import numpy as np"
   ]
  },
  {
   "cell_type": "code",
   "execution_count": 41,
   "metadata": {},
   "outputs": [],
   "source": [
    "w=np.array([[-2.8,6.3,6.3],\n",
    "           [-7.2,4.7,4.7]])\n",
    "w2=[-4.5,9.6,-10.2]\n",
    "#w=[]\n",
    "#for i in range(2):\n",
    "   # k=np.random.rand(3)\n",
    "    #w.append(k)\n",
    "#w2=np.random.rand(3)\n",
    "#w=np.array(w)\n",
    "#w2=np.array(w2)\n",
    "\n",
    "x=np.array([[1,0,0],\n",
    "           [1,0,1],\n",
    "           [1,1,0],\n",
    "           [1,1,1]])\n",
    "y=[0,1,1,0]"
   ]
  },
  {
   "cell_type": "code",
   "execution_count": 3,
   "metadata": {},
   "outputs": [],
   "source": [
    "def sigmoid(z):\n",
    "    return (1/(1+np.exp(-z)))\n"
   ]
  },
  {
   "cell_type": "code",
   "execution_count": 4,
   "metadata": {},
   "outputs": [],
   "source": [
    "def feedforward(x,w,w2):\n",
    "    h=[]\n",
    "    hh=[]\n",
    "    for i in range(4):\n",
    "        for j in range(2):\n",
    "            z=np.dot(x[i],w[j])\n",
    "            k=sigmoid(z)\n",
    "            h.append(k)\n",
    "        h.insert(0,1)\n",
    "        hh.insert(i,h)\n",
    "        h=[]\n",
    "    predict=[]\n",
    "    for i in range(4):\n",
    "        z=np.dot(hh[i],w2)\n",
    "        predict.append(sigmoid(z))\n",
    "    return predict,hh\n",
    "    "
   ]
  },
  {
   "cell_type": "code",
   "execution_count": 38,
   "metadata": {},
   "outputs": [],
   "source": [
    "def derivative_w2(predict,hh,y):\n",
    "    w23=[]\n",
    "    updated_error_w2=[]\n",
    "    for i in range(3):\n",
    "        for j in range(4):\n",
    "            k=2*(predict[j]-y[j])*predict[j]*(1-predict[j])*hh[j][i]\n",
    "            w23.append(k)\n",
    "        print(w23)\n",
    "        k1=sum(w23)\n",
    "        updated_error_w2.append(k1)\n",
    "        w23=[]\n",
    "    updated_error_w2=np.array(updated_error_w2)\n",
    "    return updated_error_w2"
   ]
  },
  {
   "cell_type": "code",
   "execution_count": 6,
   "metadata": {},
   "outputs": [],
   "source": [
    "def derivative_w(predict,hh,y,w2,x):\n",
    "    w11=[]\n",
    "    w12=[]\n",
    "    updated_error_w1=[]\n",
    "    for n in range(2):\n",
    "        for i in range(3):\n",
    "            for j in range(4):\n",
    "                k=2*(predict[j]-y[j])*predict[j]*(1-predict[j])*w2[n+1]*hh[j][n+1]*(1-hh[j][n+1])*x[j][i]\n",
    "                w11.append(k)\n",
    "       \n",
    "            k1=sum(w11)\n",
    "            w12.append(k1)\n",
    "            w11=[]\n",
    "        updated_error_w1.append(w12)\n",
    "        w12=[]\n",
    "    updated_error_w1=np.array(updated_error_w1)\n",
    "    return updated_error_w1"
   ]
  },
  {
   "cell_type": "code",
   "execution_count": 11,
   "metadata": {},
   "outputs": [],
   "source": [
    "l=0.01\n",
    "for i in range(50000):\n",
    "    predict,hh=feedforward(x,w,w2)\n",
    "    dw=derivative_w(predict,hh,y,w2,x)\n",
    "    dw2=derivative_w2(predict,hh,y)\n",
    "    w=w-(l*dw)\n",
    "    w2=w2-(l*dw2)"
   ]
  },
  {
   "cell_type": "code",
   "execution_count": 48,
   "metadata": {},
   "outputs": [],
   "source": [
    "predict,hh=feedforward(x,w,w2)"
   ]
  },
  {
   "cell_type": "code",
   "execution_count": null,
   "metadata": {},
   "outputs": [],
   "source": []
  },
  {
   "cell_type": "code",
   "execution_count": null,
   "metadata": {},
   "outputs": [],
   "source": []
  },
  {
   "cell_type": "markdown",
   "metadata": {},
   "source": [
    "# Hidden Neuron (before Training)\n",
    "### [[1,   0.057324175898868755,   0.000746028833836697],\n",
    "### [1,  0.9706877692486436,     0.07585818002124355],\n",
    "### [1,  0.9706877692486436,     0.07585818002124355],\n",
    "### [1,  0.9999445514752772,     0.9002495108803148]]"
   ]
  },
  {
   "cell_type": "markdown",
   "metadata": {},
   "source": [
    "# Output Neuron (before Training)\n",
    "### [0.01875618492135816,\n",
    " ### 0.9827890577602459,\n",
    " ### 0.9827890577602459,\n",
    " ### 0.016576116992935513]"
   ]
  },
  {
   "cell_type": "code",
   "execution_count": null,
   "metadata": {},
   "outputs": [],
   "source": []
  }
 ],
 "metadata": {
  "kernelspec": {
   "display_name": "Python 3",
   "language": "python",
   "name": "python3"
  },
  "language_info": {
   "codemirror_mode": {
    "name": "ipython",
    "version": 3
   },
   "file_extension": ".py",
   "mimetype": "text/x-python",
   "name": "python",
   "nbconvert_exporter": "python",
   "pygments_lexer": "ipython3",
   "version": "3.7.3"
  }
 },
 "nbformat": 4,
 "nbformat_minor": 2
}
