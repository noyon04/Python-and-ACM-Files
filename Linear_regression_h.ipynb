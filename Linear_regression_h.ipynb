{
 "cells": [
  {
   "cell_type": "code",
   "execution_count": 6,
   "metadata": {},
   "outputs": [],
   "source": [
    "import matplotlib.pyplot as plt"
   ]
  },
  {
   "cell_type": "code",
   "execution_count": 2,
   "metadata": {},
   "outputs": [],
   "source": [
    "x=[1.1,1.3,1.5,2,2.2,2.9,3,3.2,3.2,3.7,3.9,4,4,4.1,4.5,4.9,5.1,5.3,5.9,6,6.8,7.1,7.9,8.2,8.7,9,9.5,9.6,10.3,10.5]\n",
    "y=[39343,46205,37731,43525,39891,56642,60150,54445,64445,57189,63218,55794,56957,57081,61111,67938,66029,83088,81363,93940,91738\n",
    "   ,98273,101302,113812,109431,105582,116969,112635,122391,121872]\n",
    "w=[]\n",
    "m=1\n",
    "c=20\n",
    "\n",
    "for q in  range(len(x)):\n",
    "    predict=m*x[q]+c\n",
    "    w.append(predict)\n"
   ]
  },
  {
   "cell_type": "code",
   "execution_count": null,
   "metadata": {},
   "outputs": [],
   "source": [
    "\n"
   ]
  },
  {
   "cell_type": "code",
   "execution_count": 3,
   "metadata": {},
   "outputs": [],
   "source": [
    "def myf(l,m,c):\n",
    "    w=[]\n",
    "    predict=0\n",
    "    for q in  range(len(x)):\n",
    "        predict=m*x[q]+c\n",
    "        w.append(predict)\n",
    "    p=0\n",
    "    n=len(x)\n",
    "    i=0\n",
    "    for q in range(len(x)):\n",
    "        p=p+x[q]*(y[q]-w[q])\n",
    "        i=i+(y[q]-w[q])\n",
    "\n",
    "    dm=-2/n*p\n",
    "    dc=-2/n*i\n",
    "    m=m-l*dm\n",
    "    c=c-l*dc\n",
    "    return m,c"
   ]
  },
  {
   "cell_type": "code",
   "execution_count": 4,
   "metadata": {},
   "outputs": [],
   "source": [
    "z=0\n",
    "zz=0\n",
    "l=0.001\n",
    "r=60000\n",
    "for i in range(r):\n",
    "    z,zz=myf(l,z,zz)\n",
    "\n",
    "\n",
    "w=[]\n",
    "\n",
    "for q in  range(len(x)):\n",
    "    predict=z*x[q]+zz\n",
    "    w.append(predict)\n"
   ]
  },
  {
   "cell_type": "code",
   "execution_count": 7,
   "metadata": {},
   "outputs": [
    {
     "data": {
      "image/png": "[encoded data removed]",
      "text/plain": [
       "<Figure size 432x288 with 1 Axes>"
      ]
     },
     "metadata": {
      "needs_background": "light"
     },
     "output_type": "display_data"
    }
   ],
   "source": [
    "plt.plot(x,y,color='red')\n",
    "plt.plot(x,w,color='blue')\n",
    "plt.show()"
   ]
  },
  {
   "cell_type": "code",
   "execution_count": null,
   "metadata": {},
   "outputs": [],
   "source": []
  }
 ],
 "metadata": {
  "kernelspec": {
   "display_name": "Python 3",
   "language": "python",
   "name": "python3"
  },
  "language_info": {
   "codemirror_mode": {
    "name": "ipython",
    "version": 3
   },
   "file_extension": ".py",
   "mimetype": "text/x-python",
   "name": "python",
   "nbconvert_exporter": "python",
   "pygments_lexer": "ipython3",
   "version": "3.7.3"
  }
 },
 "nbformat": 4,
 "nbformat_minor": 2
}
