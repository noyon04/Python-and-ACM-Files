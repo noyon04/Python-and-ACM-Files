{
 "cells": [
  {
   "cell_type": "code",
   "execution_count": 5,
   "metadata": {},
   "outputs": [],
   "source": [
    "import matplotlib.pyplot as plt\n",
    "import math \n",
    "import numpy as np\n",
    "import operator as op\n",
    "from collections import Counter"
   ]
  },
  {
   "cell_type": "code",
   "execution_count": null,
   "metadata": {},
   "outputs": [],
   "source": []
  },
  {
   "cell_type": "code",
   "execution_count": 27,
   "metadata": {},
   "outputs": [
    {
     "name": "stdout",
     "output_type": "stream",
     "text": [
      "[-1, -1, 1]\n"
     ]
    }
   ],
   "source": [
    "x=np.array([[8,7],[4,10],[9,7],[1,3],[7,5],[2,5]])\n",
    "\n",
    "u=[]\n",
    "y=[1,1,1,-1,-1,-1]\n",
    "k=np.array([5,5])\n",
    "\n",
    "p=abs(np.subtract(x,k))\n",
    "\n",
    "l=np.square(p)\n",
    "\n",
    "u=l[:,0]+l[:,1]\n",
    "\n",
    "o=[]\n",
    "dicts={}\n",
    "for q in range(6):\n",
    "    o.append(math.sqrt(u[q]))\n",
    "for q in range(6):\n",
    "    dicts[q]= [o[q],y[q]]\n",
    "\n",
    "o.sort()\n",
    " \n",
    "sorted_d = sorted(dicts.items(), key=lambda kv: kv[1])\n",
    "\n",
    "k=3\n",
    "kk = []\n",
    "\n",
    "for i in range (k):\n",
    "    kk.append(sorted_d[i][1][1])\n",
    "    \n",
    "print(kk)\n",
    "    \n",
    "    \n"
   ]
  },
  {
   "cell_type": "code",
   "execution_count": 28,
   "metadata": {},
   "outputs": [
    {
     "name": "stdout",
     "output_type": "stream",
     "text": [
      "-1\n"
     ]
    }
   ],
   "source": [
    "count=Counter(kk)\n",
    "keys=list(count.keys())\n",
    "values=list(count.values())\n",
    "max_v=values.index(max(values))\n",
    "result=keys[max_v]\n",
    "print(result)"
   ]
  },
  {
   "cell_type": "code",
   "execution_count": null,
   "metadata": {},
   "outputs": [],
   "source": []
  }
 ],
 "metadata": {
  "kernelspec": {
   "display_name": "Python 3",
   "language": "python",
   "name": "python3"
  },
  "language_info": {
   "codemirror_mode": {
    "name": "ipython",
    "version": 3
   },
   "file_extension": ".py",
   "mimetype": "text/x-python",
   "name": "python",
   "nbconvert_exporter": "python",
   "pygments_lexer": "ipython3",
   "version": "3.7.3"
  }
 },
 "nbformat": 4,
 "nbformat_minor": 2
}
