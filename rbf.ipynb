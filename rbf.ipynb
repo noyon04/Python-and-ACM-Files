{
 "cells": [
  {
   "cell_type": "code",
   "execution_count": 225,
   "metadata": {},
   "outputs": [],
   "source": [
    "import numpy as np\n",
    "import random\n",
    "import matplotlib.pyplot as plt"
   ]
  },
  {
   "cell_type": "code",
   "execution_count": 246,
   "metadata": {},
   "outputs": [],
   "source": [
    "x=np.array([[2,5],[1,3],[4,6],[4,4],[7,5],[8,3],[8,7],[4,10],[9,7],[7,10],[9,6],[4,8],[10,10],[2,7]])\n",
    "k=5"
   ]
  },
  {
   "cell_type": "code",
   "execution_count": 247,
   "metadata": {},
   "outputs": [],
   "source": [
    "def random_choice(x,k):\n",
    "    centroid=[]\n",
    "    for i in range(k):\n",
    "        centroid.append(random.choice(x))\n",
    "    centroid=np.array(centroid)\n",
    "    return centroid"
   ]
  },
  {
   "cell_type": "code",
   "execution_count": 248,
   "metadata": {},
   "outputs": [],
   "source": [
    "centroid=random_choice(x,k)"
   ]
  },
  {
   "cell_type": "code",
   "execution_count": 249,
   "metadata": {},
   "outputs": [
    {
     "data": {
      "text/plain": [
       "array([[4, 6],\n",
       "       [8, 3],\n",
       "       [4, 4],\n",
       "       [9, 7],\n",
       "       [2, 7]])"
      ]
     },
     "execution_count": 249,
     "metadata": {},
     "output_type": "execute_result"
    }
   ],
   "source": [
    "centroid"
   ]
  },
  {
   "cell_type": "code",
   "execution_count": 250,
   "metadata": {},
   "outputs": [],
   "source": [
    "def centroid_std(x,centroid,k):\n",
    "    g={}\n",
    "    l=[]\n",
    "    new_centroid=[]\n",
    "    for i in range(len(x)):\n",
    "        for j in range(k):\n",
    "            l.append(np.sqrt((x[i][0]-centroid[j][0])**2+(x[i][1]-centroid[j][1])**2))\n",
    "        index=np.argmin(l)\n",
    "        l=[]\n",
    "        temp=0\n",
    "        for q,q2 in g.items():\n",
    "            if q == index:\n",
    "                q2=np.vstack((q2, x[i]))\n",
    "                g[index]=q2\n",
    "                temp=-1\n",
    "                break\n",
    "        if temp==0:\n",
    "            g[index]=x[i]\n",
    "            \n",
    "    for i in range(k):\n",
    "        if i not in g.keys():\n",
    "            g[i]=centroid[i]\n",
    "        \n",
    "    std=[]\n",
    "    for i,v in g.items():\n",
    "        std.append(np.std(v))\n",
    "    return std"
   ]
  },
  {
   "cell_type": "code",
   "execution_count": 251,
   "metadata": {},
   "outputs": [],
   "source": [
    "def centroid_back(x,centroid,k):\n",
    "    g={}\n",
    "    l=[]\n",
    "    new_centroid=[]\n",
    "    for i in range(len(x)):\n",
    "        for j in range(k):\n",
    "            l.append(np.sqrt((x[i][0]-centroid[j][0])**2+(x[i][1]-centroid[j][1])**2))\n",
    "        index=np.argmin(l)\n",
    "        l=[]\n",
    "        temp=0\n",
    "        for q,q2 in g.items():\n",
    "            if q == index:\n",
    "                q2=np.vstack((q2, x[i]))\n",
    "                g[index]=q2\n",
    "                temp=-1\n",
    "                break\n",
    "        if temp==0:\n",
    "            g[index]=x[i]\n",
    "            \n",
    "    for i in range(k):\n",
    "        if i not in g.keys():\n",
    "            g[i]=centroid[i]\n",
    "    for i,v in sorted(g.items()):\n",
    "        if np.ndim(v)==2:\n",
    "            new_centroid.append(np.mean(v,axis=0))\n",
    "        else:\n",
    "            new_centroid.append(v)\n",
    "     \n",
    "    return np.array(new_centroid)"
   ]
  },
  {
   "cell_type": "code",
   "execution_count": 252,
   "metadata": {},
   "outputs": [],
   "source": [
    "rng=1000\n",
    "for i in range(rng):\n",
    "    new_centroid=centroid_back(x,centroid,k)\n",
    "    if str (centroid)==str(new_centroid):\n",
    "        break\n",
    "    else:\n",
    "        centroid=new_centroid"
   ]
  },
  {
   "cell_type": "code",
   "execution_count": 253,
   "metadata": {},
   "outputs": [
    {
     "name": "stdout",
     "output_type": "stream",
     "text": [
      "[[4.         7.        ]\n",
      " [7.5        4.        ]\n",
      " [2.33333333 4.        ]\n",
      " [8.6        8.        ]\n",
      " [3.         8.5       ]]\n"
     ]
    }
   ],
   "source": [
    "print(centroid)"
   ]
  },
  {
   "cell_type": "code",
   "execution_count": 254,
   "metadata": {},
   "outputs": [
    {
     "data": {
      "image/png": "[encoded data removed]",
      "text/plain": [
       "<Figure size 432x288 with 1 Axes>"
      ]
     },
     "metadata": {
      "needs_background": "light"
     },
     "output_type": "display_data"
    }
   ],
   "source": [
    "plt.scatter(x[:,0],x[:,1])\n",
    "\n",
    "for i in range(k):\n",
    "    plt.scatter(centroid[i][0],centroid[i][1])\n",
    "\n",
    "plt.show()"
   ]
  },
  {
   "cell_type": "code",
   "execution_count": 255,
   "metadata": {},
   "outputs": [],
   "source": [
    "std=centroid_std(x,centroid,k)"
   ]
  },
  {
   "cell_type": "code",
   "execution_count": 256,
   "metadata": {},
   "outputs": [
    {
     "data": {
      "text/plain": [
       "[1.3437096247164249,\n",
       " 1.6583123951777,\n",
       " 1.920286436967152,\n",
       " 1.4177446878757827,\n",
       " 3.031088913245535]"
      ]
     },
     "execution_count": 256,
     "metadata": {},
     "output_type": "execute_result"
    }
   ],
   "source": [
    "std"
   ]
  },
  {
   "cell_type": "code",
   "execution_count": 257,
   "metadata": {},
   "outputs": [],
   "source": [
    "def euclidean(x, x2):\n",
    "    sum=0\n",
    "    for ix,ix2 in zip(x,x2):\n",
    "        sum+=(ix-ix2)**2\n",
    "    return np.sqrt(sum)"
   ]
  },
  {
   "cell_type": "code",
   "execution_count": 258,
   "metadata": {},
   "outputs": [],
   "source": [
    "def feedforward(x,std,centroid,k):\n",
    "    h=[]\n",
    "    hh=[]\n",
    "    for i in range(len(x)):\n",
    "        for j in range(k):\n",
    "            l=euclidean(x[i],centroid[j])\n",
    "            q=np.exp(-(l/(2*(std[j])**2)))\n",
    "            h.append(q)\n",
    "        hh.append(np.array(h))\n",
    "        h=[]\n",
    "    hh=np.array(hh)\n",
    "    return hh"
   ]
  },
  {
   "cell_type": "code",
   "execution_count": 259,
   "metadata": {},
   "outputs": [],
   "source": [
    "hh=feedforward(x,std,centroid,k)"
   ]
  },
  {
   "cell_type": "code",
   "execution_count": 260,
   "metadata": {},
   "outputs": [
    {
     "data": {
      "text/plain": [
       "5"
      ]
     },
     "execution_count": 260,
     "metadata": {},
     "output_type": "execute_result"
    }
   ],
   "source": [
    "k"
   ]
  },
  {
   "cell_type": "code",
   "execution_count": 261,
   "metadata": {},
   "outputs": [
    {
     "data": {
      "text/plain": [
       "array([[0.45691553, 0.3618974 , 0.86681665, 0.16473129, 0.82028927],\n",
       "       [0.2504201 , 0.30248536, 0.79772712, 0.1040381 , 0.72724254],\n",
       "       [0.75811281, 0.48049785, 0.70257323, 0.28714877, 0.86369542],\n",
       "       [0.43571399, 0.52921334, 0.79772712, 0.21950218, 0.778122  ],\n",
       "       [0.36844628, 0.81605061, 0.52354455, 0.42922624, 0.74882073],\n",
       "       [0.2087718 , 0.81605061, 0.45829877, 0.28573105, 0.66729779],\n",
       "       [0.33032036, 0.57523397, 0.41920472, 0.74819091, 0.75269892],\n",
       "       [0.43571399, 0.28281863, 0.42983087, 0.28714877, 0.90654896],\n",
       "       [0.2504201 , 0.54343959, 0.37110738, 0.76497001, 0.71420871],\n",
       "       [0.30885446, 0.33464319, 0.3567689 , 0.52880962, 0.79255776],\n",
       "       [0.24364667, 0.63473642, 0.38916319, 0.6020799 , 0.70205643],\n",
       "       [0.75811281, 0.38045899, 0.55567559, 0.31845357, 0.94096871],\n",
       "       [0.15603788, 0.30672056, 0.26712125, 0.54482463, 0.67732736],\n",
       "       [0.57473503, 0.32011094, 0.6641263 , 0.19003837, 0.90654896]])"
      ]
     },
     "execution_count": 261,
     "metadata": {},
     "output_type": "execute_result"
    }
   ],
   "source": [
    "hh"
   ]
  },
  {
   "cell_type": "code",
   "execution_count": 262,
   "metadata": {},
   "outputs": [],
   "source": [
    "bias=np.random.rand(len(x))\n",
    "w=[]\n",
    "for i in range(len(x)):\n",
    "    w.append(np.random.rand(k))\n",
    "w=np.array(w)"
   ]
  },
  {
   "cell_type": "code",
   "execution_count": 263,
   "metadata": {},
   "outputs": [],
   "source": [
    "def predict(hh,bias,w):\n",
    "    predict=[]\n",
    "    for i in range(len(x)):\n",
    "        z=np.dot(hh[i],w[i])\n",
    "        z=z+bias[i]\n",
    "        predict.append(z)\n",
    "    return predict"
   ]
  },
  {
   "cell_type": "code",
   "execution_count": 264,
   "metadata": {},
   "outputs": [],
   "source": [
    "predict=predict(hh,bias,w)"
   ]
  },
  {
   "cell_type": "code",
   "execution_count": 265,
   "metadata": {},
   "outputs": [
    {
     "data": {
      "text/plain": [
       "[1.3086787990135138,\n",
       " 1.0776013414317571,\n",
       " 2.527185354828402,\n",
       " 1.907277104719963,\n",
       " 1.6160734134137864,\n",
       " 1.2779286942465642,\n",
       " 1.958222176806228,\n",
       " 1.5573950038460134,\n",
       " 1.4377608263518593,\n",
       " 1.6832646117338514,\n",
       " 2.4622119751854568,\n",
       " 2.070038679248632,\n",
       " 0.9267957268319938,\n",
       " 1.5235604071511624]"
      ]
     },
     "execution_count": 265,
     "metadata": {},
     "output_type": "execute_result"
    }
   ],
   "source": [
    "predict"
   ]
  },
  {
   "cell_type": "code",
   "execution_count": null,
   "metadata": {},
   "outputs": [],
   "source": []
  }
 ],
 "metadata": {
  "kernelspec": {
   "display_name": "Python 3",
   "language": "python",
   "name": "python3"
  },
  "language_info": {
   "codemirror_mode": {
    "name": "ipython",
    "version": 3
   },
   "file_extension": ".py",
   "mimetype": "text/x-python",
   "name": "python",
   "nbconvert_exporter": "python",
   "pygments_lexer": "ipython3",
   "version": "3.7.3"
  }
 },
 "nbformat": 4,
 "nbformat_minor": 2
}
