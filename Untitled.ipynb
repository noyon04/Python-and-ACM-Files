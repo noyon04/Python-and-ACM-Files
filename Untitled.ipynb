{
 "cells": [
  {
   "cell_type": "code",
   "execution_count": 1,
   "metadata": {},
   "outputs": [],
   "source": [
    "import numpy as np "
   ]
  },
  {
   "cell_type": "code",
   "execution_count": 26,
   "metadata": {},
   "outputs": [],
   "source": [
    "x=np.array([[3,12,30],[16,6,45],[5,8,11]])\n"
   ]
  },
  {
   "cell_type": "code",
   "execution_count": 27,
   "metadata": {},
   "outputs": [],
   "source": [
    "x1=np.average(x, axis=0)"
   ]
  },
  {
   "cell_type": "code",
   "execution_count": 28,
   "metadata": {},
   "outputs": [
    {
     "name": "stdout",
     "output_type": "stream",
     "text": [
      "[[ -5.           3.33333333   1.33333333]\n",
      " [  8.          -2.66666667  16.33333333]\n",
      " [ -3.          -0.66666667 -17.66666667]]\n"
     ]
    }
   ],
   "source": [
    "m=x-x1\n",
    "print(m)"
   ]
  },
  {
   "cell_type": "code",
   "execution_count": 21,
   "metadata": {},
   "outputs": [],
   "source": [
    "convm=np.dot(m.T,m)/2"
   ]
  },
  {
   "cell_type": "code",
   "execution_count": 29,
   "metadata": {},
   "outputs": [
    {
     "data": {
      "text/plain": [
       "array([[ 49.        , -18.        ,  88.5       ],\n",
       "       [-18.        ,   9.33333333, -13.66666667],\n",
       "       [ 88.5       , -13.66666667, 290.33333333]])"
      ]
     },
     "execution_count": 29,
     "metadata": {},
     "output_type": "execute_result"
    }
   ],
   "source": [
    "np.cov(m.T)"
   ]
  },
  {
   "cell_type": "code",
   "execution_count": 24,
   "metadata": {},
   "outputs": [],
   "source": [
    "eigenvalue,EV=np.linalg.eigh(convm)"
   ]
  },
  {
   "cell_type": "code",
   "execution_count": 25,
   "metadata": {},
   "outputs": [
    {
     "data": {
      "text/plain": [
       "(array([4.23118070e-16, 1.69263756e+00, 1.66406958e+01]),\n",
       " array([[ 0.27196415,  0.40151787, -0.87453925],\n",
       "        [ 0.65271395,  0.59081674,  0.47423631],\n",
       "        [ 0.70710678, -0.69979925, -0.10139534]]))"
      ]
     },
     "execution_count": 25,
     "metadata": {},
     "output_type": "execute_result"
    }
   ],
   "source": [
    "eigenvalue,EV"
   ]
  },
  {
   "cell_type": "code",
   "execution_count": 2,
   "metadata": {},
   "outputs": [],
   "source": [
    "x=np.array([[3,12,30],[16,6,45],[5,8,11]])\n",
    "x1=np.mean(x,axis=0)"
   ]
  },
  {
   "cell_type": "code",
   "execution_count": 4,
   "metadata": {},
   "outputs": [],
   "source": [
    "m=x-x1"
   ]
  },
  {
   "cell_type": "code",
   "execution_count": 9,
   "metadata": {},
   "outputs": [],
   "source": [
    "covm=np.dot(m.T,m)/2"
   ]
  },
  {
   "cell_type": "code",
   "execution_count": 10,
   "metadata": {},
   "outputs": [
    {
     "data": {
      "text/plain": [
       "array([[ 49.        , -18.        ,  88.5       ],\n",
       "       [-18.        ,   9.33333333, -13.66666667],\n",
       "       [ 88.5       , -13.66666667, 290.33333333]])"
      ]
     },
     "execution_count": 10,
     "metadata": {},
     "output_type": "execute_result"
    }
   ],
   "source": [
    "covm"
   ]
  },
  {
   "cell_type": "code",
   "execution_count": 16,
   "metadata": {},
   "outputs": [],
   "source": [
    "x2=np.array([[8,7],[2,5],[3,10],[4,4],[5,5],[9,7]])\n",
    "y=[0,0,0,1,1,1]\n",
    "xt=[0,4]"
   ]
  },
  {
   "cell_type": "code",
   "execution_count": 29,
   "metadata": {},
   "outputs": [],
   "source": [
    "nn=[]\n",
    "dicts={}\n",
    "for i in range(6):\n",
    "    k=np.sqrt((x2[i][0]-xt[0])**2+(x2[i][1]-xt[1])**2)\n",
    "    nn.append(k)\n",
    "    dicts[k]=y[i]\n"
   ]
  },
  {
   "cell_type": "code",
   "execution_count": 30,
   "metadata": {},
   "outputs": [
    {
     "name": "stdout",
     "output_type": "stream",
     "text": [
      "[0, 1, 1]\n"
     ]
    }
   ],
   "source": [
    "sorted_d = sorted(dicts.items(), key=lambda kv: kv[0])\n",
    "k=3\n",
    "kk = []\n",
    "for i in range (k):\n",
    "    kk.append(sorted_d[i][1])    \n",
    "print(kk)\n",
    " "
   ]
  },
  {
   "cell_type": "code",
   "execution_count": 31,
   "metadata": {},
   "outputs": [
    {
     "name": "stdout",
     "output_type": "stream",
     "text": [
      "1\n"
     ]
    }
   ],
   "source": [
    "from collections import Counter\n",
    "count=Counter(kk)\n",
    "keys=list(count.keys())\n",
    "values=list(count.values())\n",
    "max_v=values.index(max(values))\n",
    "result=keys[max_v]\n",
    "print(result)"
   ]
  },
  {
   "cell_type": "code",
   "execution_count": 1,
   "metadata": {},
   "outputs": [],
   "source": [
    "import pandas as pd\n",
    "import numpy as np\n",
    "from sklearn.model_selection import train_test_split\n",
    "import matplotlib.pyplot as plt\n",
    "from sklearn.linear_model import LogisticRegression\n",
    "from sklearn.tree import DecisionTreeClassifier\n",
    "from sklearn.ensemble import RandomForestClassifier\n",
    "from sklearn.svm import SVC\n",
    "from sklearn.neural_network import MLPClassifier"
   ]
  },
  {
   "cell_type": "code",
   "execution_count": 8,
   "metadata": {},
   "outputs": [],
   "source": [
    "data = pd.read_csv(\"ne1.csv\")"
   ]
  },
  {
   "cell_type": "code",
   "execution_count": 9,
   "metadata": {},
   "outputs": [],
   "source": [
    "classmapping={}\n",
    "\n",
    "for idx, label in enumerate(np.unique(data['label'])):\n",
    "    classmapping[label]=idx\n"
   ]
  },
  {
   "cell_type": "code",
   "execution_count": 10,
   "metadata": {},
   "outputs": [],
   "source": [
    "data['label'] = data['label'].map(classmapping)"
   ]
  },
  {
   "cell_type": "code",
   "execution_count": 11,
   "metadata": {},
   "outputs": [],
   "source": [
    "x,y=data.iloc[:, :-1].values,data.iloc[:, -1].values\n",
    "\n",
    "x_train, x_test, y_train, y_test =train_test_split(x, y, test_size=0.2)"
   ]
  },
  {
   "cell_type": "code",
   "execution_count": 12,
   "metadata": {},
   "outputs": [
    {
     "name": "stdout",
     "output_type": "stream",
     "text": [
      "(2534, 9)\n",
      "(634, 9)\n"
     ]
    }
   ],
   "source": [
    "print(x_train.shape)\n",
    "print(x_test.shape)\n"
   ]
  },
  {
   "cell_type": "code",
   "execution_count": 13,
   "metadata": {},
   "outputs": [],
   "source": [
    "from sklearn.metrics import accuracy_score"
   ]
  },
  {
   "cell_type": "code",
   "execution_count": 14,
   "metadata": {},
   "outputs": [],
   "source": [
    "forest = RandomForestClassifier(n_estimators=5, random_state=0)\n",
    "forest.fit(x_train, y_train)\n",
    "y_pred_r=forest.predict(x_test)"
   ]
  },
  {
   "cell_type": "code",
   "execution_count": 15,
   "metadata": {},
   "outputs": [
    {
     "data": {
      "text/plain": [
       "94.4794952681388"
      ]
     },
     "execution_count": 15,
     "metadata": {},
     "output_type": "execute_result"
    }
   ],
   "source": [
    "accuracy_score(y_test, y_pred_r)*100"
   ]
  },
  {
   "cell_type": "code",
   "execution_count": 61,
   "metadata": {},
   "outputs": [
    {
     "name": "stdout",
     "output_type": "stream",
     "text": [
      "Average frequency = 50.83495 hz\n"
     ]
    }
   ],
   "source": [
    "import sys\n",
    "from aubio import source, pitch\n",
    "\n",
    "win_s = 4096\n",
    "hop_s = 512 \n",
    "\n",
    "s = source(\"output1.wav\", win_s, hop_s)\n",
    "samplerate = s.samplerate\n",
    "\n",
    "tolerance = 0.8\n",
    "\n",
    "pitch_o = pitch(\"yin\", win_s, hop_s, samplerate)\n",
    "pitch_o.set_unit(\"midi\")\n",
    "pitch_o.set_tolerance(tolerance)\n",
    "\n",
    "pitches = []\n",
    "confidences = []\n",
    "\n",
    "total_frames = 0\n",
    "while True:\n",
    "    samples, read = s()\n",
    "    pitch = pitch_o(samples)[0]\n",
    "    pitches += [pitch]\n",
    "    confidence = pitch_o.get_confidence()\n",
    "    confidences += [confidence]\n",
    "    total_frames += read\n",
    "    if read < hop_s: break\n",
    "\n",
    "print(\"Average frequency = \" + str(np.array(pitches).mean()) + \" hz\")\n"
   ]
  },
  {
   "cell_type": "code",
   "execution_count": 62,
   "metadata": {},
   "outputs": [],
   "source": [
    "import numpy as np\n",
    "\n",
    "def spectral_properties(y: np.ndarray, fs: int) -> dict:\n",
    "    spec = np.abs(np.fft.rfft(y))\n",
    "    freq = np.fft.rfftfreq(len(y), d=1 / fs)\n",
    "    spec = np.abs(spec)\n",
    "    amp = spec / spec.sum()\n",
    "    mean = (freq * amp).sum()\n",
    "    sd = np.sqrt(np.sum(amp * ((freq - mean) ** 2)))\n",
    "    amp_cumsum = np.cumsum(amp)\n",
    "    median = freq[len(amp_cumsum[amp_cumsum <= 0.5]) + 1]\n",
    "    mode = freq[amp.argmax()]\n",
    "    Q25 = freq[len(amp_cumsum[amp_cumsum <= 0.25]) + 1]\n",
    "    Q75 = freq[len(amp_cumsum[amp_cumsum <= 0.75]) + 1]\n",
    "    IQR = Q75 - Q25\n",
    "    z = amp - amp.mean()\n",
    "    w = amp.std()\n",
    "    skew = ((z ** 3).sum() / (len(spec) - 1)) / w ** 3\n",
    "    kurt = ((z ** 4).sum() / (len(spec) - 1)) / w ** 4\n",
    "\n",
    "    result_d = {\n",
    "        'mean': mean/1000,\n",
    "        'sd': sd/1000,\n",
    "        'median': median/1000,\n",
    "        'mode': mode/1000,\n",
    "        'Q25': Q25/1000,\n",
    "        'Q75': Q75/1000,\n",
    "        'IQR': IQR/1000,\n",
    "        'skew': skew,\n",
    "        'kurt': kurt\n",
    "    }\n",
    "\n",
    "    return result_d"
   ]
  },
  {
   "cell_type": "code",
   "execution_count": 63,
   "metadata": {},
   "outputs": [],
   "source": [
    "dits={}\n",
    "dicts=spectral_properties(np.array(pitches), samplerate)"
   ]
  },
  {
   "cell_type": "code",
   "execution_count": 64,
   "metadata": {},
   "outputs": [
    {
     "data": {
      "text/plain": [
       "{'mean': 0.5758707265853882,\n",
       " 'sd': 0.6695099938758767,\n",
       " 'median': 0.3413333333333333,\n",
       " 'mode': 0.0,\n",
       " 'Q25': 0.17066666666666666,\n",
       " 'Q75': 1.1946666666666665,\n",
       " 'IQR': 1.0239999999999998,\n",
       " 'skew': 3.0015595015867977,\n",
       " 'kurt': 10.187438197189982}"
      ]
     },
     "execution_count": 64,
     "metadata": {},
     "output_type": "execute_result"
    }
   ],
   "source": [
    "dicts"
   ]
  },
  {
   "cell_type": "code",
   "execution_count": null,
   "metadata": {},
   "outputs": [],
   "source": []
  },
  {
   "cell_type": "code",
   "execution_count": 65,
   "metadata": {},
   "outputs": [],
   "source": [
    "kk=[]\n",
    "for i, k in dicts.items():\n",
    "    kk.append(dicts[i])"
   ]
  },
  {
   "cell_type": "code",
   "execution_count": 66,
   "metadata": {},
   "outputs": [],
   "source": [
    "kk=np.array(kk)\n",
    "kk=kk.reshape(1,-1)"
   ]
  },
  {
   "cell_type": "code",
   "execution_count": 67,
   "metadata": {},
   "outputs": [],
   "source": [
    "y_pred_r=forest.predict(kk)"
   ]
  },
  {
   "cell_type": "code",
   "execution_count": null,
   "metadata": {},
   "outputs": [],
   "source": []
  },
  {
   "cell_type": "code",
   "execution_count": 68,
   "metadata": {},
   "outputs": [
    {
     "data": {
      "text/plain": [
       "array([0], dtype=int64)"
      ]
     },
     "execution_count": 68,
     "metadata": {},
     "output_type": "execute_result"
    }
   ],
   "source": [
    "y_pred_r"
   ]
  },
  {
   "cell_type": "code",
   "execution_count": null,
   "metadata": {},
   "outputs": [],
   "source": []
  }
 ],
 "metadata": {
  "kernelspec": {
   "display_name": "Python 3",
   "language": "python",
   "name": "python3"
  },
  "language_info": {
   "codemirror_mode": {
    "name": "ipython",
    "version": 3
   },
   "file_extension": ".py",
   "mimetype": "text/x-python",
   "name": "python",
   "nbconvert_exporter": "python",
   "pygments_lexer": "ipython3",
   "version": "3.7.3"
  }
 },
 "nbformat": 4,
 "nbformat_minor": 2
}
