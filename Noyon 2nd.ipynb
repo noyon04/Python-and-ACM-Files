{
 "cells": [
  {
   "cell_type": "code",
   "execution_count": 124,
   "metadata": {},
   "outputs": [],
   "source": [
    "import matplotlib.pyplot as plt"
   ]
  },
  {
   "cell_type": "code",
   "execution_count": 129,
   "metadata": {},
   "outputs": [],
   "source": [
    "x=[10,20,30,40,50,60,70]\n",
    "y=[90,115,130,157,170,210,250]\n",
    "w=[]\n",
    "m=1\n",
    "c=20\n",
    "\n",
    "for q in  range(len(x)):\n",
    "    predict=m*x[q]+c\n",
    "    w.append(predict)\n",
    "        \n",
    "    "
   ]
  },
  {
   "cell_type": "code",
   "execution_count": 130,
   "metadata": {},
   "outputs": [
    {
     "name": "stdout",
     "output_type": "stream",
     "text": [
      "1.9251428571428573 20.020057142857144\n"
     ]
    }
   ],
   "source": [
    "p=0\n",
    "n=len(x)\n",
    "i=0\n",
    "for q in range(len(x)):\n",
    "    p=p+x[q]*(y[q]-w[q])\n",
    "    i=i+(y[q]-w[q])\n",
    "\n",
    "dm=-2/n*p\n",
    "dc=-2/n*i\n",
    "m=m-l*dm\n",
    "c=c-l*dc\n",
    "print(m,c)\n",
    "\n",
    "\n"
   ]
  },
  {
   "cell_type": "code",
   "execution_count": 121,
   "metadata": {},
   "outputs": [],
   "source": [
    "\n",
    "def myf(l,m,c):\n",
    "    w=[]\n",
    "    predict=0\n",
    "    for q in  range(len(x)):\n",
    "        predict=m*x[q]+c\n",
    "        w.append(predict)\n",
    "    p=0\n",
    "    n=len(x)\n",
    "    i=0\n",
    "    for q in range(len(x)):\n",
    "        p=p+x[q]*(y[q]-w[q])\n",
    "        i=i+(y[q]-w[q])\n",
    "\n",
    "    dm=-2/n*p\n",
    "    dc=-2/n*i\n",
    "    m=m-l*dm\n",
    "    c=c-l*dc\n",
    "    return m,c"
   ]
  },
  {
   "cell_type": "code",
   "execution_count": 139,
   "metadata": {},
   "outputs": [
    {
     "name": "stdout",
     "output_type": "stream",
     "text": [
      "2.642475540724763 53.51961369943558\n",
      "[79.94436910668321, 106.36912451393084, 132.79387992117847, 159.2186353284261, 185.64339073567373, 212.06814614292136, 238.492901550169]\n"
     ]
    }
   ],
   "source": [
    "z=0\n",
    "zz=0\n",
    "l=0.0001\n",
    "r=60000\n",
    "for i in range(r):\n",
    "    z,zz=myf(l,z,zz)\n",
    "\n",
    "\n",
    "w=[]\n",
    "print(z,zz)\n",
    "for q in  range(len(x)):\n",
    "    predict=z*x[q]+zz\n",
    "    w.append(predict)\n",
    "print(w)     "
   ]
  },
  {
   "cell_type": "code",
   "execution_count": 138,
   "metadata": {},
   "outputs": [
    {
     "data": {
      "image/png": "[encoded data removed]",
      "text/plain": [
       "<Figure size 432x288 with 1 Axes>"
      ]
     },
     "metadata": {
      "needs_background": "light"
     },
     "output_type": "display_data"
    }
   ],
   "source": [
    "plt.plot(x,y,color='red')\n",
    "plt.plot(x,w,color='blue')\n",
    "plt.xlabel(\"X value\")\n",
    "plt.ylabel(\"Y value\")\n",
    "plt.show()"
   ]
  },
  {
   "cell_type": "code",
   "execution_count": null,
   "metadata": {},
   "outputs": [],
   "source": []
  },
  {
   "cell_type": "code",
   "execution_count": null,
   "metadata": {},
   "outputs": [],
   "source": []
  }
 ],
 "metadata": {
  "kernelspec": {
   "display_name": "Python 3",
   "language": "python",
   "name": "python3"
  },
  "language_info": {
   "codemirror_mode": {
    "name": "ipython",
    "version": 3
   },
   "file_extension": ".py",
   "mimetype": "text/x-python",
   "name": "python",
   "nbconvert_exporter": "python",
   "pygments_lexer": "ipython3",
   "version": "3.7.3"
  }
 },
 "nbformat": 4,
 "nbformat_minor": 2
}
