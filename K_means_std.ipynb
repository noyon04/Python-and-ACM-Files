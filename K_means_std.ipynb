{
 "cells": [
  {
   "cell_type": "code",
   "execution_count": 18,
   "metadata": {},
   "outputs": [],
   "source": [
    "import numpy as np\n",
    "import random\n",
    "import matplotlib.pyplot as plt"
   ]
  },
  {
   "cell_type": "code",
   "execution_count": 19,
   "metadata": {},
   "outputs": [],
   "source": [
    "x=np.array([[2,4],[5,4],[4,6],[7,10],[1,1],[8,9],[11,13],[10,12]])"
   ]
  },
  {
   "cell_type": "code",
   "execution_count": 20,
   "metadata": {},
   "outputs": [],
   "source": [
    "c1=random.choice(x)\n",
    "c2=random.choice(x)\n"
   ]
  },
  {
   "cell_type": "code",
   "execution_count": 21,
   "metadata": {},
   "outputs": [],
   "source": [
    "def groups(x,c1,c2):\n",
    "    g1=[]\n",
    "    g2=[]\n",
    "    for i in range(len(x)):\n",
    "        k=np.sqrt((x[i][0]-c1[0])**2+(x[i][1]-c1[1])**2)\n",
    "        k2=np.sqrt((x[i][0]-c2[0])**2+(x[i][1]-c2[1])**2)\n",
    "        if(k<k2):\n",
    "            g1.append(x[i])\n",
    "        else:\n",
    "            g2.append(x[i])\n",
    "    return g1,g2"
   ]
  },
  {
   "cell_type": "code",
   "execution_count": 22,
   "metadata": {},
   "outputs": [],
   "source": [
    "def centroid(x,c1,c2):\n",
    "    g1=[]\n",
    "    g2=[]\n",
    "    for i in range(len(x)):\n",
    "        k=np.sqrt((x[i][0]-c1[0])**2+(x[i][1]-c1[1])**2)\n",
    "        k2=np.sqrt((x[i][0]-c2[0])**2+(x[i][1]-c2[1])**2)\n",
    "        if(k<k2):\n",
    "            g1.append(x[i])\n",
    "        else:\n",
    "            g2.append(x[i])\n",
    "    c11=np.mean(g1,axis=0)\n",
    "    c22=np.mean(g2,axis=0)  \n",
    "    return c11,c22\n",
    "    "
   ]
  },
  {
   "cell_type": "code",
   "execution_count": 23,
   "metadata": {},
   "outputs": [],
   "source": [
    "rng=1000\n",
    "for i in range(rng):\n",
    "    c11,c22=centroid(x,c1,c2)\n",
    "    if(str(c1)==str(c11) and str(c2)==str(c22)):\n",
    "        break\n",
    "    else:\n",
    "        c1=c11\n",
    "        c2=c22"
   ]
  },
  {
   "cell_type": "code",
   "execution_count": 24,
   "metadata": {},
   "outputs": [
    {
     "data": {
      "image/png": "[encoded data removed]",
      "text/plain": [
       "<Figure size 432x288 with 1 Axes>"
      ]
     },
     "metadata": {
      "needs_background": "light"
     },
     "output_type": "display_data"
    }
   ],
   "source": [
    "\n",
    "plt.scatter(x[:,0],x[:,1],marker='o' )\n",
    "\n",
    "\n",
    "plt.scatter(c1[0], c1[1], color='r')\n",
    "plt.scatter(c2[0], c2[1], color='g')\n",
    "plt.show()"
   ]
  },
  {
   "cell_type": "code",
   "execution_count": 25,
   "metadata": {},
   "outputs": [],
   "source": [
    "g_one,g_two=groups(x,c1,c2)"
   ]
  },
  {
   "cell_type": "code",
   "execution_count": 26,
   "metadata": {},
   "outputs": [
    {
     "name": "stdout",
     "output_type": "stream",
     "text": [
      "Group 1=  [[2 4]\n",
      " [5 4]\n",
      " [4 6]\n",
      " [1 1]]\n",
      "Group 2=  [[ 7 10]\n",
      " [ 8  9]\n",
      " [11 13]\n",
      " [10 12]]\n"
     ]
    }
   ],
   "source": [
    "print(\"Group 1= \",np.array(g_one))\n",
    "print(\"Group 2= \",np.array(g_two))"
   ]
  },
  {
   "cell_type": "code",
   "execution_count": 27,
   "metadata": {},
   "outputs": [],
   "source": [
    "std_one=np.std(g_one)\n",
    "std_two=np.std(g_two)"
   ]
  },
  {
   "cell_type": "code",
   "execution_count": 29,
   "metadata": {},
   "outputs": [
    {
     "name": "stdout",
     "output_type": "stream",
     "text": [
      "Std of g1=  1.7275343701356567\n",
      "Std of g2=  1.8708286933869707\n"
     ]
    }
   ],
   "source": [
    "print(\"Std of g1= \",std_one)\n",
    "print(\"Std of g2= \",std_two)"
   ]
  },
  {
   "cell_type": "code",
   "execution_count": null,
   "metadata": {},
   "outputs": [],
   "source": []
  }
 ],
 "metadata": {
  "kernelspec": {
   "display_name": "Python 3",
   "language": "python",
   "name": "python3"
  },
  "language_info": {
   "codemirror_mode": {
    "name": "ipython",
    "version": 3
   },
   "file_extension": ".py",
   "mimetype": "text/x-python",
   "name": "python",
   "nbconvert_exporter": "python",
   "pygments_lexer": "ipython3",
   "version": "3.7.3"
  }
 },
 "nbformat": 4,
 "nbformat_minor": 2
}
